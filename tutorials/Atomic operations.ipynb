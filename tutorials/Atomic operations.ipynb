{
 "cells": [
  {
   "cell_type": "markdown",
   "metadata": {
    "toc": true
   },
   "source": [
    "<h1>Table of Contents<span class=\"tocSkip\"></span></h1>\n",
    "<div class=\"toc\"><ul class=\"toc-item\"><li><span><a href=\"#Introduction\" data-toc-modified-id=\"Introduction-1\"><span class=\"toc-item-num\">1&nbsp;&nbsp;</span>Introduction</a></span></li><li><span><a href=\"#What-are-they?\" data-toc-modified-id=\"What-are-they?-2\"><span class=\"toc-item-num\">2&nbsp;&nbsp;</span>What are they?</a></span></li><li><span><a href=\"#Imports\" data-toc-modified-id=\"Imports-3\"><span class=\"toc-item-num\">3&nbsp;&nbsp;</span>Imports</a></span></li><li><span><a href=\"#Atomic-operations\" data-toc-modified-id=\"Atomic-operations-4\"><span class=\"toc-item-num\">4&nbsp;&nbsp;</span>Atomic operations</a></span></li><li><span><a href=\"#Non-Atomic-operations\" data-toc-modified-id=\"Non-Atomic-operations-5\"><span class=\"toc-item-num\">5&nbsp;&nbsp;</span>Non-Atomic operations</a></span></li><li><span><a href=\"#Recommendations\" data-toc-modified-id=\"Recommendations-6\"><span class=\"toc-item-num\">6&nbsp;&nbsp;</span>Recommendations</a></span></li><li><span><a href=\"#How-to-force-operations-to-be-atomic\" data-toc-modified-id=\"How-to-force-operations-to-be-atomic-7\"><span class=\"toc-item-num\">7&nbsp;&nbsp;</span>How to force operations to be atomic</a></span></li><li><span><a href=\"#References\" data-toc-modified-id=\"References-8\"><span class=\"toc-item-num\">8&nbsp;&nbsp;</span>References</a></span></li><li><span><a href=\"#Requirements\" data-toc-modified-id=\"Requirements-9\"><span class=\"toc-item-num\">9&nbsp;&nbsp;</span>Requirements</a></span></li></ul></div>"
   ]
  },
  {
   "cell_type": "markdown",
   "metadata": {},
   "source": [
    "# Introduction\n",
    "<hr style=\"border:2px solid black\"> </hr>"
   ]
  },
  {
   "cell_type": "markdown",
   "metadata": {},
   "source": [
    "<div class=\"alert alert-warning\">\n",
    "<font color=black>\n",
    "\n",
    "**What?** Atomic operations\n",
    "\n",
    "</font>\n",
    "</div>"
   ]
  },
  {
   "cell_type": "markdown",
   "metadata": {},
   "source": [
    "# What are they?\n",
    "<hr style=\"border:2px solid black\"> </hr>"
   ]
  },
  {
   "cell_type": "markdown",
   "metadata": {},
   "source": [
    "<div class=\"alert alert-info\">\n",
    "<font color=black>\n",
    "\n",
    "- An atomic operation is executed without interruption.\n",
    "- What happens in concurrent programming where context switch is a possibility?. The operating system controls what threads execute and what is paused via a context switch. \n",
    "- A thread cannot be context switched in the middle of an atomic operation.\n",
    "- This means that an atomic operations is thread-safe (context-switch safe) as we can expect them to be completed once started.\n",
    "    \n",
    "</font>\n",
    "</div>"
   ]
  },
  {
   "cell_type": "markdown",
   "metadata": {},
   "source": [
    "# Atomic operations\n",
    "<hr style = \"border:2px solid black\" ></hr>"
   ]
  },
  {
   "cell_type": "code",
   "execution_count": 1,
   "metadata": {
    "ExecuteTime": {
     "end_time": "2023-07-13T08:34:32.405928Z",
     "start_time": "2023-07-13T08:34:32.403103Z"
    }
   },
   "outputs": [],
   "source": [
    "# assignment is atomic\n",
    "x = 44\n",
    "y = 33\n",
    "x = y"
   ]
  },
  {
   "cell_type": "code",
   "execution_count": 7,
   "metadata": {
    "ExecuteTime": {
     "end_time": "2023-07-13T08:35:55.319223Z",
     "start_time": "2023-07-13T08:35:55.314757Z"
    }
   },
   "outputs": [
    {
     "data": {
      "text/plain": [
       "33"
      ]
     },
     "execution_count": 7,
     "metadata": {},
     "output_type": "execute_result"
    }
   ],
   "source": [
    "# assigning a property is atomic\n",
    "class X():\n",
    "    value = \"\"\n",
    "\n",
    "\n",
    "x = X()\n",
    "x.value = 33\n",
    "x.value"
   ]
  },
  {
   "cell_type": "code",
   "execution_count": 9,
   "metadata": {
    "ExecuteTime": {
     "end_time": "2023-07-13T08:37:00.188363Z",
     "start_time": "2023-07-13T08:37:00.183916Z"
    }
   },
   "outputs": [
    {
     "data": {
      "text/plain": [
       "[1]"
      ]
     },
     "execution_count": 9,
     "metadata": {},
     "output_type": "execute_result"
    }
   ],
   "source": [
    "a = []\n",
    "b = 1\n",
    "# adding a value is atomic\n",
    "a.append(b)\n",
    "a"
   ]
  },
  {
   "cell_type": "code",
   "execution_count": 14,
   "metadata": {
    "ExecuteTime": {
     "end_time": "2023-07-13T08:37:34.410509Z",
     "start_time": "2023-07-13T08:37:34.405836Z"
    }
   },
   "outputs": [
    {
     "data": {
      "text/plain": [
       "[1, 2, 3, 4]"
      ]
     },
     "execution_count": 14,
     "metadata": {},
     "output_type": "execute_result"
    }
   ],
   "source": [
    "a = [1, 2]\n",
    "b = [3, 4]\n",
    "# adding a list to a list is atomic\n",
    "a.extend(b)\n",
    "a"
   ]
  },
  {
   "cell_type": "code",
   "execution_count": 15,
   "metadata": {
    "ExecuteTime": {
     "end_time": "2023-07-13T08:41:16.601646Z",
     "start_time": "2023-07-13T08:41:16.597010Z"
    }
   },
   "outputs": [
    {
     "data": {
      "text/plain": [
       "3"
      ]
     },
     "execution_count": 15,
     "metadata": {},
     "output_type": "execute_result"
    }
   ],
   "source": [
    "# getting a value from a list is atomic\n",
    "a = [1,2,3]\n",
    "value = a[2]\n",
    "value"
   ]
  },
  {
   "cell_type": "code",
   "execution_count": 17,
   "metadata": {
    "ExecuteTime": {
     "end_time": "2023-07-13T08:41:40.946974Z",
     "start_time": "2023-07-13T08:41:40.943567Z"
    }
   },
   "outputs": [
    {
     "name": "stdout",
     "output_type": "stream",
     "text": [
      "3 [1, 2]\n"
     ]
    }
   ],
   "source": [
    "a = [1,2,3]\n",
    "# removing a value from a list is atomic\n",
    "value = a.pop()\n",
    "print(value, a)"
   ]
  },
  {
   "cell_type": "markdown",
   "metadata": {},
   "source": [
    "# Non-Atomic operations\n",
    "<hr style = \"border:2px solid black\" ></hr>"
   ]
  },
  {
   "cell_type": "markdown",
   "metadata": {},
   "source": [
    "<div class=\"alert alert-info\">\n",
    "<font color=black>\n",
    "\n",
    "- Most operations are not atomic in Python.\n",
    "- This means that these operations are not thread-safe.\n",
    "- In this section we will discuss a few non-atomic operations that when used in concurrent programs can lead to a concurrent failure condition or bug called a race condition.\n",
    "\n",
    "</font>\n",
    "</div>"
   ]
  },
  {
   "cell_type": "code",
   "execution_count": 19,
   "metadata": {
    "ExecuteTime": {
     "end_time": "2023-07-13T08:44:34.168077Z",
     "start_time": "2023-07-13T08:44:34.163495Z"
    }
   },
   "outputs": [
    {
     "data": {
      "text/plain": [
       "2"
      ]
     },
     "execution_count": 19,
     "metadata": {},
     "output_type": "execute_result"
    }
   ],
   "source": [
    "# adding and subtracting is not atomic\n",
    "a =1\n",
    "a = a + 1\n",
    "a"
   ]
  },
  {
   "cell_type": "markdown",
   "metadata": {},
   "source": [
    "<div class=\"alert alert-info\">\n",
    "<font color=black>\n",
    "\n",
    "- The reason for this is at least three operations are involved, they are:\n",
    "    - Read the value of the variable.\n",
    "    - Calculate the new value for the variable\n",
    "    - Assign the calculated value of the variable.\n",
    "\n",
    "</font>\n",
    "</div>"
   ]
  },
  {
   "cell_type": "code",
   "execution_count": 20,
   "metadata": {
    "ExecuteTime": {
     "end_time": "2023-07-13T08:45:20.367758Z",
     "start_time": "2023-07-13T08:45:20.364945Z"
    }
   },
   "outputs": [],
   "source": [
    "a = [1,2,3]\n",
    "a = [4,5,6]\n",
    "# access and assign is not atomic\n",
    "a[0] = b[0]"
   ]
  },
  {
   "cell_type": "markdown",
   "metadata": {},
   "source": [
    "# Recommendations\n",
    "<hr style=\"border:2px solid black\"> </hr>"
   ]
  },
  {
   "cell_type": "markdown",
   "metadata": {},
   "source": [
    "<div class=\"alert alert-info\">\n",
    "<font color=black>\n",
    "\n",
    "- **Rule of thumb** in most cases, you should act as they are not available.\n",
    "- Thus follow this rules:\n",
    "    - The operations may not be atomic if the code is executed by a different Python interpreter.\n",
    "    - The behavior of the reference Python interpreter may change in the future.\n",
    "    - Other programmers who have to read your code may not be as intimately familiar with Python atomic operations.\n",
    "    - You may introduce more complex race conditions, e.g. operations are atomic but multiple such operations in a batch are not protected.  \n",
    "\n",
    "</font>\n",
    "</div>"
   ]
  },
  {
   "cell_type": "markdown",
   "metadata": {},
   "source": [
    "# How to force operations to be atomic\n",
    "<hr style=\"border:2px solid black\"> </hr>"
   ]
  },
  {
   "cell_type": "markdown",
   "metadata": {},
   "source": [
    "<div class=\"alert alert-info\">\n",
    "<font color=black>\n",
    "\n",
    "- In concurrency programming, it is common to have critical sections of code that may be executed by multiple threads simultaneously which must be protected.\n",
    "- These sections can be protected using locks such as the mutual exclusion lock (mutex) provided in the `threading.Lock` class.\n",
    "- Using the lock to protect a block of code **does NOT** prevent the thread from being context switched in the middle of an instruction or between instructions in the block.\n",
    "- Instead, **it prevents other threads** from executing the same block while a thread holds the lock.\n",
    "\n",
    "</font>\n",
    "</div>"
   ]
  },
  {
   "cell_type": "markdown",
   "metadata": {},
   "source": [
    "```python\n",
    "from threading import Lock\n",
    "from threading import Thread\n",
    "from random import random\n",
    "from time import sleep\n",
    "\n",
    "# example of a mutual exclusion (mutex) lock\n",
    "\n",
    "\n",
    "# work function\n",
    "def task(lock, identifier, value):\n",
    "    # acquire the lock\n",
    "    with lock:\n",
    "        print(f\">thread {identifier} got the lock, sleeping for {value}\")\n",
    "        sleep(value)\n",
    "\n",
    "\n",
    "# create a shared lock\n",
    "lock = Lock()\n",
    "# start a few threads that attempt to execute the same critical section\n",
    "for i in range(10):\n",
    "    # start a thread\n",
    "    Thread(target=task, args=(lock, i, random())).start()\n",
    "# wait for all threads to finish...\n",
    "```"
   ]
  },
  {
   "cell_type": "markdown",
   "metadata": {},
   "source": [
    "# References\n",
    "<hr style=\"border:2px solid black\"> </hr>"
   ]
  },
  {
   "cell_type": "markdown",
   "metadata": {},
   "source": [
    "<div class=\"alert alert-warning\">\n",
    "<font color=black>\n",
    "\n",
    "- [Thread atomic operation | Superfastpython](https://superfastpython.com/thread-atomic-operations/)\n",
    "- [Google Python Style Guide](https://google.github.io/styleguide/pyguide.html#Threading)\n",
    "    \n",
    "</font>\n",
    "</div>"
   ]
  },
  {
   "cell_type": "markdown",
   "metadata": {},
   "source": [
    "# Requirements\n",
    "<hr style=\"border:2px solid black\"> </hr>"
   ]
  },
  {
   "cell_type": "code",
   "execution_count": null,
   "metadata": {},
   "outputs": [],
   "source": [
    "%load_ext watermark\n",
    "%watermark -v -iv -m"
   ]
  }
 ],
 "metadata": {
  "hide_input": false,
  "kernelspec": {
   "display_name": "mlops",
   "language": "python",
   "name": "mlops"
  },
  "language_info": {
   "codemirror_mode": {
    "name": "ipython",
    "version": 3
   },
   "file_extension": ".py",
   "mimetype": "text/x-python",
   "name": "python",
   "nbconvert_exporter": "python",
   "pygments_lexer": "ipython3",
   "version": "3.8.16"
  },
  "toc": {
   "base_numbering": 1,
   "nav_menu": {},
   "number_sections": true,
   "sideBar": true,
   "skip_h1_title": false,
   "title_cell": "Table of Contents",
   "title_sidebar": "Contents",
   "toc_cell": true,
   "toc_position": {
    "height": "calc(100% - 180px)",
    "left": "10px",
    "top": "150px",
    "width": "198.3px"
   },
   "toc_section_display": true,
   "toc_window_display": true
  },
  "varInspector": {
   "cols": {
    "lenName": 16,
    "lenType": 16,
    "lenVar": 40
   },
   "kernels_config": {
    "python": {
     "delete_cmd_postfix": "",
     "delete_cmd_prefix": "del ",
     "library": "var_list.py",
     "varRefreshCmd": "print(var_dic_list())"
    },
    "r": {
     "delete_cmd_postfix": ") ",
     "delete_cmd_prefix": "rm(",
     "library": "var_list.r",
     "varRefreshCmd": "cat(var_dic_list()) "
    }
   },
   "position": {
    "height": "343.722px",
    "left": "1262.27px",
    "right": "20px",
    "top": "120px",
    "width": "365px"
   },
   "types_to_exclude": [
    "module",
    "function",
    "builtin_function_or_method",
    "instance",
    "_Feature"
   ],
   "window_display": false
  }
 },
 "nbformat": 4,
 "nbformat_minor": 2
}
