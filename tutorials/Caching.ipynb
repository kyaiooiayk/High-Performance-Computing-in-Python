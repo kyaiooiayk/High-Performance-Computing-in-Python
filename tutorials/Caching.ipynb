{
 "cells": [
  {
   "cell_type": "markdown",
   "metadata": {
    "toc": true
   },
   "source": [
    "<h1>Table of Contents<span class=\"tocSkip\"></span></h1>\n",
    "<div class=\"toc\"><ul class=\"toc-item\"><li><span><a href=\"#Introduction\" data-toc-modified-id=\"Introduction-1\"><span class=\"toc-item-num\">1&nbsp;&nbsp;</span>Introduction</a></span></li><li><span><a href=\"#What-is-caching?\" data-toc-modified-id=\"What-is-caching?-2\"><span class=\"toc-item-num\">2&nbsp;&nbsp;</span>What is caching?</a></span></li><li><span><a href=\"#How-is-caching-used-behind-the-scene\" data-toc-modified-id=\"How-is-caching-used-behind-the-scene-3\"><span class=\"toc-item-num\">3&nbsp;&nbsp;</span>How is caching used behind the scene</a></span></li><li><span><a href=\"#Using-and-controlling-caching\" data-toc-modified-id=\"Using-and-controlling-caching-4\"><span class=\"toc-item-num\">4&nbsp;&nbsp;</span>Using and controlling caching</a></span></li><li><span><a href=\"#References\" data-toc-modified-id=\"References-5\"><span class=\"toc-item-num\">5&nbsp;&nbsp;</span>References</a></span></li></ul></div>"
   ]
  },
  {
   "cell_type": "markdown",
   "metadata": {},
   "source": [
    "# Introduction\n",
    "<hr style=\"border:2px solid black\"> </hr>"
   ]
  },
  {
   "cell_type": "markdown",
   "metadata": {},
   "source": [
    "<div class=\"alert alert-warning\">\n",
    "<font color=black>\n",
    "\n",
    "**What?** Code profiling\n",
    "\n",
    "</font>\n",
    "</div>"
   ]
  },
  {
   "cell_type": "markdown",
   "metadata": {},
   "source": [
    "# What is caching?\n",
    "<hr style=\"border:2px solid black\"> </hr>"
   ]
  },
  {
   "cell_type": "markdown",
   "metadata": {},
   "source": [
    "<div class=\"alert alert-info\">\n",
    "<font color=black>\n",
    "    \n",
    "- Caching: a mechanism that minimizes unnecessary computations and speeds up your programs. \n",
    "- Caching consists in keeping recently (or frequently) used data in a memory location that has cheap and fast access for repeated queries.\n",
    "    \n",
    "- We'll talk about the TTL Cache here, but other types of cache are also available. Which one to use highly depends on your needs. There are:\n",
    "    - **LFUCache** (Least Frequently Used): keeps a count of how often an item is retrieved and discards items that are least used\n",
    "    - **LRUCache** (Least Recently Used): discards the least recently used items\n",
    "    - **RRCache** (Random Replacement): randomly select items and discard them\n",
    "\n",
    "</font>\n",
    "</div>"
   ]
  },
  {
   "cell_type": "markdown",
   "metadata": {},
   "source": [
    "# How is caching used behind the scene\n",
    "<hr style=\"border:2px solid black\"> </hr>"
   ]
  },
  {
   "cell_type": "markdown",
   "metadata": {},
   "source": [
    "<div class=\"alert alert-info\">\n",
    "<font color=black>\n",
    "    \n",
    "- Let’s consider an application where caching is commonly used: web servers.\n",
    "- What we want is to store the content of each post in local memory (an object in RAM for example) and reusing it later if the user requests the same link later.\n",
    "\n",
    "</font>\n",
    "</div>"
   ]
  },
  {
   "cell_type": "code",
   "execution_count": 1,
   "metadata": {
    "ExecuteTime": {
     "end_time": "2023-01-21T12:33:52.177569Z",
     "start_time": "2023-01-21T12:33:52.095655Z"
    }
   },
   "outputs": [],
   "source": [
    "import requests\n",
    "\n",
    "# initialize cache a the beginning\n",
    "cache = dict()\n",
    "\n",
    "\n",
    "def extract_article_content(url):\n",
    "    response = requests.get(url)\n",
    "    content = response.content\n",
    "    return content\n",
    "\n",
    "\n",
    "def fetch_article(url):\n",
    "    if url not in cache:\n",
    "        content = extract_article_content(url)\n",
    "        cache[url] = content\n",
    "\n",
    "    return cache[url]"
   ]
  },
  {
   "cell_type": "code",
   "execution_count": 2,
   "metadata": {
    "ExecuteTime": {
     "end_time": "2023-01-21T12:33:52.183529Z",
     "start_time": "2023-01-21T12:33:52.180413Z"
    }
   },
   "outputs": [],
   "source": [
    "url = \"http://google.co.uk\""
   ]
  },
  {
   "cell_type": "code",
   "execution_count": 3,
   "metadata": {
    "ExecuteTime": {
     "end_time": "2023-01-21T12:33:52.363954Z",
     "start_time": "2023-01-21T12:33:52.187820Z"
    }
   },
   "outputs": [
    {
     "name": "stdout",
     "output_type": "stream",
     "text": [
      "The slowest run took 412666.65 times longer than the fastest. This could mean that an intermediate result is being cached.\n",
      "24.4 ms ± 59.8 ms per loop (mean ± std. dev. of 7 runs, 1 loop each)\n"
     ]
    }
   ],
   "source": [
    "%%timeit -n 1\n",
    "# run it for the first time\n",
    "fetch_article(url)"
   ]
  },
  {
   "cell_type": "code",
   "execution_count": 4,
   "metadata": {
    "ExecuteTime": {
     "end_time": "2023-01-21T12:33:52.369947Z",
     "start_time": "2023-01-21T12:33:52.366026Z"
    }
   },
   "outputs": [
    {
     "name": "stdout",
     "output_type": "stream",
     "text": [
      "The slowest run took 6.40 times longer than the fastest. This could mean that an intermediate result is being cached.\n",
      "555 ns ± 551 ns per loop (mean ± std. dev. of 7 runs, 1 loop each)\n"
     ]
    }
   ],
   "source": [
    "%%timeit -n 1\n",
    "# Run it again and it will be much faster\n",
    "fetch_article(url)"
   ]
  },
  {
   "cell_type": "markdown",
   "metadata": {},
   "source": [
    "# Using and controlling caching\n",
    "<hr style=\"border:2px solid black\"> </hr>"
   ]
  },
  {
   "cell_type": "markdown",
   "metadata": {},
   "source": [
    "<div class=\"alert alert-info\">\n",
    "<font color=black>\n",
    "    \n",
    "- `maxsize` specifies the number of objects we store in the cache. I set it to 100 but it can vary depending on your use case.\n",
    "- `ttl` is short for Time To Live which is basically the time each result is being stored in a cache. After this time, the cached result expires. I arbitrarily set it to 86400s which corresponds to a full day.\n",
    "\n",
    "</font>\n",
    "</div>"
   ]
  },
  {
   "cell_type": "code",
   "execution_count": 5,
   "metadata": {
    "ExecuteTime": {
     "end_time": "2023-01-21T12:33:52.377910Z",
     "start_time": "2023-01-21T12:33:52.372180Z"
    }
   },
   "outputs": [],
   "source": [
    "from cachetools import cached, TTLCache\n",
    "\n",
    "cache = TTLCache(maxsize=100, ttl=86400)\n",
    "\n",
    "@cached(cache)\n",
    "def extract_article_content(url):\n",
    "    response = requests.get(url)\n",
    "    content = response.content\n",
    "    return content"
   ]
  },
  {
   "cell_type": "code",
   "execution_count": 6,
   "metadata": {
    "ExecuteTime": {
     "end_time": "2023-01-21T12:33:52.521325Z",
     "start_time": "2023-01-21T12:33:52.380095Z"
    }
   },
   "outputs": [
    {
     "name": "stdout",
     "output_type": "stream",
     "text": [
      "The slowest run took 49953.99 times longer than the fastest. This could mean that an intermediate result is being cached.\n",
      "19.6 ms ± 48.1 ms per loop (mean ± std. dev. of 7 runs, 1 loop each)\n"
     ]
    }
   ],
   "source": [
    "%%timeit -n 1\n",
    "# run it for the first time\n",
    "content = extract_article_content(url)"
   ]
  },
  {
   "cell_type": "code",
   "execution_count": 7,
   "metadata": {
    "ExecuteTime": {
     "end_time": "2023-01-21T12:33:52.527513Z",
     "start_time": "2023-01-21T12:33:52.523313Z"
    }
   },
   "outputs": [
    {
     "name": "stdout",
     "output_type": "stream",
     "text": [
      "The slowest run took 4.71 times longer than the fastest. This could mean that an intermediate result is being cached.\n",
      "4.69 µs ± 3.52 µs per loop (mean ± std. dev. of 7 runs, 1 loop each)\n"
     ]
    }
   ],
   "source": [
    "%%timeit -n 1\n",
    "# run it for the first time\n",
    "content = extract_article_content(url)"
   ]
  },
  {
   "cell_type": "markdown",
   "metadata": {},
   "source": [
    "# References\n",
    "<hr style=\"border:2px solid black\"> </hr>"
   ]
  },
  {
   "cell_type": "markdown",
   "metadata": {},
   "source": [
    "<div class=\"alert alert-warning\">\n",
    "<font color=black>\n",
    "\n",
    "- https://towardsdatascience.com/how-to-speed-up-your-python-code-with-caching-c1ea979d0276\n",
    "\n",
    "</font>\n",
    "</div>"
   ]
  }
 ],
 "metadata": {
  "hide_input": false,
  "kernelspec": {
   "display_name": "trainingAI",
   "language": "python",
   "name": "trainingai"
  },
  "language_info": {
   "codemirror_mode": {
    "name": "ipython",
    "version": 3
   },
   "file_extension": ".py",
   "mimetype": "text/x-python",
   "name": "python",
   "nbconvert_exporter": "python",
   "pygments_lexer": "ipython3",
   "version": "3.9.7"
  },
  "toc": {
   "base_numbering": 1,
   "nav_menu": {},
   "number_sections": true,
   "sideBar": true,
   "skip_h1_title": false,
   "title_cell": "Table of Contents",
   "title_sidebar": "Contents",
   "toc_cell": true,
   "toc_position": {},
   "toc_section_display": true,
   "toc_window_display": true
  },
  "varInspector": {
   "cols": {
    "lenName": 16,
    "lenType": 16,
    "lenVar": 40
   },
   "kernels_config": {
    "python": {
     "delete_cmd_postfix": "",
     "delete_cmd_prefix": "del ",
     "library": "var_list.py",
     "varRefreshCmd": "print(var_dic_list())"
    },
    "r": {
     "delete_cmd_postfix": ") ",
     "delete_cmd_prefix": "rm(",
     "library": "var_list.r",
     "varRefreshCmd": "cat(var_dic_list()) "
    }
   },
   "types_to_exclude": [
    "module",
    "function",
    "builtin_function_or_method",
    "instance",
    "_Feature"
   ],
   "window_display": false
  }
 },
 "nbformat": 4,
 "nbformat_minor": 2
}
