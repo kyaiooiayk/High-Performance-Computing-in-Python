{
 "cells": [
  {
   "cell_type": "markdown",
   "id": "71d6e626",
   "metadata": {
    "toc": true
   },
   "source": [
    "<h1>Table of Contents<span class=\"tocSkip\"></span></h1>\n",
""   ]
  },
  {
   "cell_type": "markdown",
   "id": "digital-avatar",
   "metadata": {},
   "source": [
    "# Introduction\n",
    "<hr style=\"border:2px solid black\"> </hr>"
   ]
  },
  {
   "cell_type": "markdown",
   "id": "5176b197",
   "metadata": {},
   "source": [
    "\n",
    "**What?** Memoisation and decorator\n",
    "\n",
""   ]
  },
  {
   "cell_type": "markdown",
   "id": "addressed-recovery",
   "metadata": {},
   "source": [
    "# Memoization\n",
    "<hr style=\"border:2px solid black\"> </hr>"
   ]
  },
  {
   "cell_type": "markdown",
   "id": "772c2eb2",
   "metadata": {},
   "source": [
    "\n",
    "- **Memoization** is a technique of recording the intermediate results so that it can be used to avoid repeated calculations and speed up the programs. \n",
    "- It can be used to optimize the programs that use **recursion**. \n",
    "- In Python, memoization can be done with the help of function **decorators**. \n",
    "\n",
""   ]
  },
  {
   "cell_type": "markdown",
   "id": "42c9a4a3",
   "metadata": {},
   "source": [
    "# Baseline - recursive fibonacci\n",
    "<hr style = \"border:2px solid black\" ></hr>"
   ]
  },
  {
   "cell_type": "code",
   "execution_count": 5,
   "id": "f9fde6a8",
   "metadata": {
    "ExecuteTime": {
     "end_time": "2022-10-14T06:26:51.422347Z",
     "start_time": "2022-10-14T06:26:51.416095Z"
    }
   },
   "outputs": [
    {
     "data": {
      "text/plain": [
       "55"
      ]
     },
     "execution_count": 5,
     "metadata": {},
     "output_type": "execute_result"
    }
   ],
   "source": [
    "def fib(n):\n",
    "    if n == 0:\n",
    "        return 0\n",
    "    elif n == 1:\n",
    "        return 1\n",
    "    else:\n",
    "        return fib(n-1) + fib(n-2)\n",
    "\n",
    "\n",
    "fib(10)"
   ]
  },
  {
   "cell_type": "markdown",
   "id": "39caec05",
   "metadata": {},
   "source": [
    "# via dictionary\n",
    "<hr style = \"border:2px solid black\" ></hr>"
   ]
  },
  {
   "cell_type": "markdown",
   "id": "4272344f",
   "metadata": {},
   "source": [
    "\n",
    "\n",
    "- We also presented a way to improve the runtime behaviour of the recursive version by adding a dictionary to memorize previously calculated values of the function. \n",
    "- The disadvantage of this method is that the clarity and the beauty of the original recursive implementation is lost.\n",
    "\n",
    "- The \"problem\" is that we changed the code of the recursive fib function. The following code doesn't change our fib function, so that its clarity and legibility isn't touched. To this purpose, we define and use a function which we call memoize. memoize() takes a function as an argument. The function memoize uses a dictionary \"memo\" to store the function results. Though the variable \"memo\" as well as the function \"f\" are local to memoize, they are captured by a closure through the helper function which is returned as a reference by memoize(). So, the call memoize(fib) returns a reference to the helper() which is doing what fib() would do on its own plus a wrapper which saves the calculated results. For an integer 'n' fib(n) will only be called, if n is not in the memo dictionary. If it is in it, we can output memo[n] as the result of fib(n).\n",
    "\n",
    "    \n",
""   ]
  },
  {
   "cell_type": "code",
   "execution_count": 2,
   "id": "712e9023",
   "metadata": {
    "ExecuteTime": {
     "end_time": "2022-10-14T06:22:01.741013Z",
     "start_time": "2022-10-14T06:22:01.736150Z"
    }
   },
   "outputs": [
    {
     "name": "stdout",
     "output_type": "stream",
     "text": [
      "55\n"
     ]
    }
   ],
   "source": [
    "def memoize(f):\n",
    "    memo = {}\n",
    "    def helper(x):\n",
    "        if x not in memo:            \n",
    "            memo[x] = f(x)\n",
    "        return memo[x]\n",
    "    return helper\n",
    "def fib(n):\n",
    "    if n == 0:\n",
    "        return 0\n",
    "    elif n == 1:\n",
    "        return 1\n",
    "    else:\n",
    "        return fib(n-1) + fib(n-2)\n",
    "fib = memoize(fib)\n",
    "print(fib(10))"
   ]
  },
  {
   "cell_type": "markdown",
   "id": "0bc661d3",
   "metadata": {},
   "source": [
    "# via `lru_cache`\n",
    "<hr style = \"border:2px solid black\" ></hr>"
   ]
  },
  {
   "cell_type": "code",
   "execution_count": 79,
   "id": "advance-manhattan",
   "metadata": {},
   "outputs": [
    {
     "name": "stdout",
     "output_type": "stream",
     "text": [
      "176 ms ± 0 ns per loop (mean ± std. dev. of 1 run, 10 loops each)\n",
      "17.4 ms ± 0 ns per loop (mean ± std. dev. of 1 run, 10 loops each)\n",
      "17.7 ms ± 0 ns per loop (mean ± std. dev. of 1 run, 10 loops each)\n"
     ]
    }
   ],
   "source": [
    "from functools import lru_cache\n",
    "\n",
    "\n",
    "def fib(n):\n",
    "    if n <= 2:\n",
    "        return 1\n",
    "    else:\n",
    "        return fib(n-1) + fib(n-2)\n",
    "\n",
    "# A simple example of memoization - in practice, use `lru_cache` from functools\n",
    "\n",
    "\n",
    "def memoize(f):\n",
    "    store = {}\n",
    "\n",
    "    def func(n):\n",
    "        if n not in store:\n",
    "            store[n] = f(n)\n",
    "        return store[n]\n",
    "    return func\n",
    "\n",
    "\n",
    "@memoize\n",
    "def mfib(n):\n",
    "    return fib(n)\n",
    "\n",
    "\n",
    "@lru_cache()\n",
    "def lfib(n):\n",
    "    return fib(n)\n",
    "\n",
    "\n",
    "assert(fib(10) == mfib(10))\n",
    "assert(fib(10) == lfib(10))\n",
    "\n",
    "%timeit - r1 - n10 fib(30)\n",
    "%timeit - r1 - n10 mfib(30)\n",
    "%timeit - r1 - n10 lfib(30)"
   ]
  },
  {
   "cell_type": "markdown",
   "id": "94b38fd3",
   "metadata": {},
   "source": [
    "# via decorator\n",
    "<hr style = \"border:2px solid black\" ></hr>"
   ]
  },
  {
   "cell_type": "markdown",
   "id": "ea7e12a2",
   "metadata": {},
   "source": [
    "\n",
    "- We haven't used the Pythonic way of writing a decorator. Instead of writing the statement: `fib = memoize(fib)` we should have **decorated** our `fib` function with: `@memoize`\n",
    "\n",
""   ]
  },
  {
   "cell_type": "code",
   "execution_count": 6,
   "id": "715a3371",
   "metadata": {
    "ExecuteTime": {
     "end_time": "2022-10-14T06:28:06.846797Z",
     "start_time": "2022-10-14T06:28:06.842011Z"
    }
   },
   "outputs": [
    {
     "name": "stdout",
     "output_type": "stream",
     "text": [
      "55\n"
     ]
    }
   ],
   "source": [
    "def memoize(f):\n",
    "    memo = {}\n",
    "\n",
    "    def helper(x):\n",
    "        if x not in memo:\n",
    "            memo[x] = f(x)\n",
    "        return memo[x]\n",
    "    return helper\n",
    "\n",
    "\n",
    "@memoize\n",
    "def fib(n):\n",
    "    if n == 0:\n",
    "        return 0\n",
    "    elif n == 1:\n",
    "        return 1\n",
    "    else:\n",
    "        return fib(n-1) + fib(n-2)\n",
    "\n",
    "\n",
    "print(fib(10))"
   ]
  },
  {
   "cell_type": "markdown",
   "id": "c8df008c",
   "metadata": {},
   "source": [
    "# Callable function\n",
    "<hr style = \"border:2px solid black\" ></hr>"
   ]
  },
  {
   "cell_type": "code",
   "execution_count": 7,
   "id": "eb661cbe",
   "metadata": {
    "ExecuteTime": {
     "end_time": "2022-10-14T06:30:20.593608Z",
     "start_time": "2022-10-14T06:30:20.588773Z"
    }
   },
   "outputs": [
    {
     "name": "stdout",
     "output_type": "stream",
     "text": [
      "55\n"
     ]
    }
   ],
   "source": [
    "class Memoize:\n",
    "    def __init__(self, fn):\n",
    "        self.fn = fn\n",
    "        self.memo = {}\n",
    "\n",
    "    def __call__(self, *args):\n",
    "        if args not in self.memo:\n",
    "            self.memo[args] = self.fn(*args)\n",
    "        return self.memo[args]\n",
    "\n",
    "\n",
    "@Memoize\n",
    "def fib(n):\n",
    "    if n == 0:\n",
    "        return 0\n",
    "    elif n == 1:\n",
    "        return 1\n",
    "    else:\n",
    "        return fib(n-1) + fib(n-2)\n",
    "\n",
    "\n",
    "print(fib(10))"
   ]
  },
  {
   "cell_type": "markdown",
   "id": "monetary-washer",
   "metadata": {},
   "source": [
    "# References\n",
    "<hr style=\"border:2px solid black\"> </hr>"
   ]
  },
  {
   "cell_type": "markdown",
   "id": "793e513b",
   "metadata": {},
   "source": [
    "\n",
    "- https://people.duke.edu/~ccc14/sta-663-2016/A01_CodeOptimization.html\n",
    "- https://python-course.eu/advanced-python/memoization-decorators.php\n",
    "    \n",
""   ]
  },
  {
   "cell_type": "code",
   "execution_count": null,
   "id": "athletic-wilson",
   "metadata": {},
   "outputs": [],
   "source": []
  }
 ],
 "metadata": {
  "hide_input": false,
  "kernelspec": {
   "display_name": "trainingAI",
   "language": "python",
   "name": "trainingai"
  },
  "language_info": {
   "codemirror_mode": {
    "name": "ipython",
    "version": 3
   },
   "file_extension": ".py",
   "mimetype": "text/x-python",
   "name": "python",
   "nbconvert_exporter": "python",
   "pygments_lexer": "ipython3",
   "version": "3.9.7"
  },
  "toc": {
   "base_numbering": 1,
   "nav_menu": {},
   "number_sections": true,
   "sideBar": true,
   "skip_h1_title": false,
   "title_cell": "Table of Contents",
   "title_sidebar": "Contents",
   "toc_cell": true,
   "toc_position": {
    "height": "calc(100% - 180px)",
    "left": "10px",
    "top": "150px",
    "width": "165px"
   },
   "toc_section_display": true,
   "toc_window_display": true
  },
  "varInspector": {
   "cols": {
    "lenName": 16,
    "lenType": 16,
    "lenVar": 40
   },
   "kernels_config": {
    "python": {
     "delete_cmd_postfix": "",
     "delete_cmd_prefix": "del ",
     "library": "var_list.py",
     "varRefreshCmd": "print(var_dic_list())"
    },
    "r": {
     "delete_cmd_postfix": ") ",
     "delete_cmd_prefix": "rm(",
     "library": "var_list.r",
     "varRefreshCmd": "cat(var_dic_list()) "
    }
   },
   "types_to_exclude": [
    "module",
    "function",
    "builtin_function_or_method",
    "instance",
    "_Feature"
   ],
   "window_display": false
  }
 },
 "nbformat": 4,
 "nbformat_minor": 5
}
