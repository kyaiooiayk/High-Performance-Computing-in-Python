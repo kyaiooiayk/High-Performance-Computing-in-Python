{
 "cells": [
  {
   "cell_type": "markdown",
   "metadata": {},
   "source": [
    "# Python's and NumPy's in-place operator functions"
   ]
  },
  {
   "cell_type": "markdown",
   "id": "38dc5a54",
   "metadata": {},
   "source": [
    "# Introduction"
   ]
  },
  {
   "cell_type": "markdown",
   "id": "f6ea81e8",
   "metadata": {},
   "source": [
    "First, we have to briefly talk about how the operators, e.g., for \"addition\" are implemented in Python.  \n",
    "There are basically two different `add` methods for the `+` operator:\n",
    "\n",
    "- `a.__add__(b)`\n",
    "Returns the sum of `a` and `b` in `a + b`\n",
    "\n",
    "- `a.__iadd__(b)`  \n",
    "Changes the value `a` in place, e.g., `a += b`\n",
    "\n",
    "However, the `__iadd__` method supports only mutable types. Thus, if we use the in-place operator `+=` on, for example, integers (integers are immutable), Python simulates the `__iadd__` method:\n",
    "\n",
    "`a += b`  \n",
    "via  \n",
    "`tmp = a + b; a = tmp`"
   ]
  },
  {
   "cell_type": "markdown",
   "id": "ea76de9a",
   "metadata": {},
   "source": [
    "### `__add__` and `__iadd__` examples"
   ]
  },
  {
   "cell_type": "markdown",
   "id": "d8e9c8bb",
   "metadata": {},
   "source": [
    "The examples below show that the **`__add__`** method **returns** the sum,  whereas the **`__iadd__`** method **modifies in-place**."
   ]
  },
  {
   "cell_type": "code",
   "execution_count": 1,
   "id": "f3a1e284",
   "metadata": {},
   "outputs": [
    {
     "name": "stdout",
     "output_type": "stream",
     "text": [
      "3\n",
      "1\n"
     ]
    }
   ],
   "source": [
    "a = 1\n",
    "b = 2\n",
    "\n",
    "print(a.__add__(b))\n",
    "print(a)"
   ]
  },
  {
   "cell_type": "code",
   "execution_count": 2,
   "id": "2668ff75",
   "metadata": {},
   "outputs": [
    {
     "name": "stdout",
     "output_type": "stream",
     "text": [
      "[1, 2]\n",
      "[1]\n"
     ]
    }
   ],
   "source": [
    "a = [1]\n",
    "b = [2]\n",
    "\n",
    "print(a.__add__(b))\n",
    "print(a)"
   ]
  },
  {
   "cell_type": "code",
   "execution_count": 3,
   "id": "37759884",
   "metadata": {},
   "outputs": [
    {
     "name": "stdout",
     "output_type": "stream",
     "text": [
      "[1, 2]\n",
      "[1, 2]\n"
     ]
    }
   ],
   "source": [
    "a = [1]\n",
    "b = [2]\n",
    "\n",
    "print(a.__iadd__(b))\n",
    "print(a)"
   ]
  },
  {
   "cell_type": "markdown",
   "id": "325bd22b",
   "metadata": {},
   "source": [
    "### The advantage of `__iadd__` for mutable objects"
   ]
  },
  {
   "cell_type": "markdown",
   "id": "9ef0f31c",
   "metadata": {},
   "source": [
    "The advantage of the `__iadd__` method is that it doesn't create a \"temporary\" object when we use the `+=`-in-place operator on mutable objects, such as Python `list` objects, which leads to a significant performance increase. This also works for NumPy arrays as we will see in the benchmarks below."
   ]
  },
  {
   "cell_type": "markdown",
   "id": "13788dfb",
   "metadata": {},
   "source": [
    "# `timeit` benchmarks"
   ]
  },
  {
   "cell_type": "code",
   "execution_count": 4,
   "id": "93525e82",
   "metadata": {},
   "outputs": [],
   "source": [
    "import numpy as np\n",
    "import timeit\n",
    "\n",
    "py_int, py_list, np_ary = [[],[]], [[],[]], [[],[]]\n",
    "\n",
    "for i in range(100, 1100, 100):\n",
    "\n",
    "    a = i\n",
    "    b = i\n",
    "    py_int[0].append(min(timeit.Timer('a = a + b', \n",
    "            'from __main__ import a, b').repeat(repeat=3, number=1000)))\n",
    "\n",
    "    a = i\n",
    "    py_int[1].append(min(timeit.Timer('a += b', \n",
    "            'from __main__ import a, b').repeat(repeat=3, number=1000)))\n",
    "    \n",
    "    a = np.ones((i,i))\n",
    "    np_ary[0].append(min(timeit.Timer('a = a + b', \n",
    "            'from __main__ import a, b').repeat(repeat=3, number=1000)))\n",
    "\n",
    "    a = np.ones((i,i))\n",
    "    np_ary[1].append(min(timeit.Timer('a += b', \n",
    "            'from __main__ import a, b').repeat(repeat=3, number=1000)))\n",
    "    \n",
    "    a = list(range(i))\n",
    "    b = list(range(i))\n",
    "    py_list[0].append(min(timeit.Timer('a = a + b', \n",
    "            'from __main__ import a, b').repeat(repeat=3, number=1000)))\n",
    "\n",
    "    a = list(range(i))\n",
    "    py_list[1].append(min(timeit.Timer('a += b', \n",
    "            'from __main__ import a, b').repeat(repeat=3, number=1000)))"
   ]
  },
  {
   "cell_type": "markdown",
   "id": "893515bc",
   "metadata": {},
   "source": [
    "## Preparing to plot the results"
   ]
  },
  {
   "cell_type": "code",
   "execution_count": 5,
   "id": "7475f72a",
   "metadata": {},
   "outputs": [],
   "source": [
    "import platform\n",
    "import multiprocessing\n",
    "\n",
    "def print_sysinfo():\n",
    "    \n",
    "    print('\\nPython version  :', platform.python_version())\n",
    "    print('compiler        :', platform.python_compiler())\n",
    "    \n",
    "    print('\\nsystem     :', platform.system())\n",
    "    print('release    :', platform.release())\n",
    "    print('machine    :', platform.machine())\n",
    "    print('processor  :', platform.processor())\n",
    "    print('CPU count  :', multiprocessing.cpu_count())\n",
    "    print('interpreter:', platform.architecture()[0])\n",
    "    print('\\n\\n')"
   ]
  },
  {
   "cell_type": "code",
   "execution_count": 6,
   "id": "dc0f55d0",
   "metadata": {},
   "outputs": [],
   "source": [
    "%matplotlib inline"
   ]
  },
  {
   "cell_type": "code",
   "execution_count": 7,
   "id": "66f3f82f",
   "metadata": {},
   "outputs": [],
   "source": [
    "import matplotlib.pyplot as plt\n",
    "\n",
    "def plot():\n",
    "\n",
    "    data = [py_int, py_list, np_ary]\n",
    "    colors = ['g', 'b']\n",
    "    x_vals = range(100, 1100, 100)\n",
    "\n",
    "    f, ax = plt.subplots(1, 3, figsize=(15,5))\n",
    "\n",
    "    for i in range(3):\n",
    "        for j in range(2):\n",
    "            ax[i].plot(x_vals, data[i][j], alpha=0.4, lw=3)\n",
    "        ax[i].set_ylim([0, max(data[i][0][-1], data[i][1][-1])*1.5])\n",
    "        ax[i].set_ylabel('time in milliseconds')    \n",
    "        ax[i].set_xlabel('sample size N') \n",
    "        ax[i].legend(['a = a + x', 'a += x'])\n",
    "        \n",
    "\n",
    "    ax[0].set_title('Python integer addition\\n(where a and x are integers size N)')\n",
    "    ax[1].set_title('Addition Python list objects\\n'\\\n",
    "                    '(where a and x are lists w. length N)')\n",
    "    ax[2].set_title('NumPy: In-place operator for element-wise'\\\n",
    "                    'array operation\\n(where a is a NxN-dim.NumPy array, x an integer size N)')\n",
    "    \n",
    "    plt.tight_layout()\n",
    "    plt.show()"
   ]
  },
  {
   "cell_type": "markdown",
   "id": "87503f24",
   "metadata": {},
   "source": [
    "<br>\n",
    "<br>"
   ]
  },
  {
   "cell_type": "markdown",
   "id": "1d9d383e",
   "metadata": {},
   "source": [
    "# Results"
   ]
  },
  {
   "cell_type": "code",
   "execution_count": 8,
   "id": "e684ae10",
   "metadata": {},
   "outputs": [
    {
     "data": {
      "image/png": "[encoded data removed]",
      "text/plain": [
       "<matplotlib.figure.Figure at 0x1072442b0>"
      ]
     },
     "metadata": {},
     "output_type": "display_data"
    },
    {
     "name": "stdout",
     "output_type": "stream",
     "text": [
      "\n",
      "Python version  : 3.4.1\n",
      "compiler        : GCC 4.2.1 (Apple Inc. build 5577)\n",
      "\n",
      "system     : Darwin\n",
      "release    : 13.2.0\n",
      "machine    : x86_64\n",
      "processor  : i386\n",
      "CPU count  : 4\n",
      "interpreter: 64bit\n",
      "\n",
      "\n",
      "\n"
     ]
    }
   ],
   "source": [
    "plot()\n",
    "print_sysinfo()"
   ]
  },
  {
   "cell_type": "markdown",
   "id": "1f53a7e6",
   "metadata": {},
   "source": [
    "# Conclusion"
   ]
  },
  {
   "cell_type": "markdown",
   "id": "d2dc2e79",
   "metadata": {},
   "source": [
    "Since the `+=` in-place operator function on immutable objects (here: integers) is merely a workaround using the `__add__` method (`tmp = a + b; a = tmp`) as mentioned in the introduction above, we don't see any performance increase for Python `integer` types if we use the in-place operator: It is just syntactic sugar.  \n",
    "However, it really pays off performance-wise if we use the in-place operator with on mutable types."
   ]
  },
  {
   "cell_type": "markdown",
   "metadata": {},
   "source": [
    "# References"
   ]
  },
  {
   "cell_type": "markdown",
   "metadata": {},
   "source": [
    "- https://nbviewer.org/github/rasbt/One-Python-benchmark-per-day/blob/master/ipython_nbs/day14_inplace_operators.ipynb"
   ]
  },
  {
   "cell_type": "code",
   "execution_count": null,
   "metadata": {},
   "outputs": [],
   "source": []
  }
 ],
 "metadata": {
  "kernelspec": {
   "display_name": "trainingAI",
   "language": "python",
   "name": "trainingai"
  },
  "language_info": {
   "codemirror_mode": {
    "name": "ipython",
    "version": 3
   },
   "file_extension": ".py",
   "mimetype": "text/x-python",
   "name": "python",
   "nbconvert_exporter": "python",
   "pygments_lexer": "ipython3",
   "version": "3.9.7"
  },
  "toc": {
   "base_numbering": 1,
   "nav_menu": {},
   "number_sections": true,
   "sideBar": true,
   "skip_h1_title": false,
   "title_cell": "Table of Contents",
   "title_sidebar": "Contents",
   "toc_cell": false,
   "toc_position": {},
   "toc_section_display": true,
   "toc_window_display": true
  },
  "varInspector": {
   "cols": {
    "lenName": 16,
    "lenType": 16,
    "lenVar": 40
   },
   "kernels_config": {
    "python": {
     "delete_cmd_postfix": "",
     "delete_cmd_prefix": "del ",
     "library": "var_list.py",
     "varRefreshCmd": "print(var_dic_list())"
    },
    "r": {
     "delete_cmd_postfix": ") ",
     "delete_cmd_prefix": "rm(",
     "library": "var_list.r",
     "varRefreshCmd": "cat(var_dic_list()) "
    }
   },
   "types_to_exclude": [
    "module",
    "function",
    "builtin_function_or_method",
    "instance",
    "_Feature"
   ],
   "window_display": false
  }
 },
 "nbformat": 4,
 "nbformat_minor": 1
}
