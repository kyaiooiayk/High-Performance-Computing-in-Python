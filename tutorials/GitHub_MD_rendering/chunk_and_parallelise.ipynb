{
 "cells": [
  {
   "cell_type": "code",
   "execution_count": 1,
   "id": "99a26617",
   "metadata": {
    "ExecuteTime": {
     "end_time": "2023-07-14T09:43:44.800913Z",
     "start_time": "2023-07-14T09:43:44.680116Z"
    }
   },
   "outputs": [],
   "source": [
    "from functools import wraps\n",
    "import numpy as np\n",
    "import multiprocess as mp"
   ]
  },
  {
   "cell_type": "code",
   "execution_count": 2,
   "id": "9e6450e5",
   "metadata": {
    "ExecuteTime": {
     "end_time": "2023-07-14T09:43:44.807264Z",
     "start_time": "2023-07-14T09:43:44.802656Z"
    }
   },
   "outputs": [],
   "source": [
    "def _get_no_cpu(no_cpu):    \n",
    "    return mp.cpu_count() if (no_cpu == -1) else no_cpu\n",
    "    \n",
    "    \n",
    "def para(\n",
    "    func_: None = None,\n",
    "    no_cpu: int = 1\n",
    "):    \n",
    "\n",
    "    def _decorator(func):\n",
    "        @wraps(func)\n",
    "        def wrapper(*args, **kwargs):\n",
    "\n",
    "            print(\"argument\", *args)\n",
    "            print(\"kwargs\", *kwargs)\n",
    "            \n",
    "            _no_thread = _get_no_cpu(no_cpu)\n",
    "            \n",
    "            chunks = np.array_split([*args[0]], _no_thread)\n",
    "\n",
    "            pool = mp.Pool(processes=_no_thread)\n",
    "            results = [pool.apply_async(func, args=(x,)) for x in chunks]\n",
    "            output = [j for p in results for j in p.get()]\n",
    "\n",
    "            return output\n",
    "\n",
    "        return wrapper\n",
    "\n",
    "    if callable(func_):\n",
    "        return _decorator(func_)\n",
    "    elif func_ is None:\n",
    "        return _decorator\n",
    "    else:\n",
    "        raise RuntimeWarning(\"Positional arguments are not supported!\")"
   ]
  },
  {
   "cell_type": "code",
   "execution_count": 3,
   "id": "70aa9fe5",
   "metadata": {
    "ExecuteTime": {
     "end_time": "2023-07-14T09:43:44.813246Z",
     "start_time": "2023-07-14T09:43:44.810369Z"
    }
   },
   "outputs": [
    {
     "name": "stdout",
     "output_type": "stream",
     "text": [
      "How many LOGICAL CPUs? 12\n",
      "How many PHYSICAL CPUs? 6\n"
     ]
    }
   ],
   "source": [
    "import psutil\n",
    "print(\"How many LOGICAL CPUs?\", psutil.cpu_count(\n",
    "    logical=True))\n",
    "print(\"How many PHYSICAL CPUs?\", psutil.cpu_count(\n",
    "    logical=False))"
   ]
  },
  {
   "cell_type": "code",
   "execution_count": 4,
   "id": "d1236b9f",
   "metadata": {
    "ExecuteTime": {
     "end_time": "2023-07-14T09:43:54.853623Z",
     "start_time": "2023-07-14T09:43:44.815023Z"
    },
    "scrolled": true
   },
   "outputs": [
    {
     "data": {
      "text/plain": [
       "[0, 1, 2, 3, 4, 5, 6, 7, 8, 9]"
      ]
     },
     "execution_count": 4,
     "metadata": {},
     "output_type": "execute_result"
    }
   ],
   "source": [
    "import time\n",
    "def func(x):    \n",
    "    # Emulate expensive calculation\n",
    "    def WAIT(x):\n",
    "        time.sleep(1)\n",
    "        return x\n",
    "    \n",
    "    # Emulate a real ouput\n",
    "    z = [WAIT(i) for i in x]\n",
    "    return z\n",
    "output = func(range(10))\n",
    "output"
   ]
  },
  {
   "cell_type": "code",
   "execution_count": 9,
   "id": "04d6842e",
   "metadata": {
    "ExecuteTime": {
     "end_time": "2023-07-14T09:44:23.738407Z",
     "start_time": "2023-07-14T09:44:22.658571Z"
    },
    "scrolled": false
   },
   "outputs": [
    {
     "name": "stdout",
     "output_type": "stream",
     "text": [
      "argument range(0, 10)\n",
      "kwargs\n"
     ]
    },
    {
     "data": {
      "text/plain": [
       "[0, 1, 2, 3, 4, 5, 6, 7, 8, 9]"
      ]
     },
     "execution_count": 9,
     "metadata": {},
     "output_type": "execute_result"
    }
   ],
   "source": [
    "@para(no_cpu=12)\n",
    "def func(x):    \n",
    "    # Do expensive calculation\n",
    "    def WAIT(x):\n",
    "        time.sleep(1)\n",
    "        return x\n",
    "    \n",
    "    # Emulate a real ouput\n",
    "    z = [WAIT(i) for i in x]\n",
    "    return z\n",
    "\n",
    "output = func(range(10))\n",
    "output"
   ]
  },
  {
   "cell_type": "code",
   "execution_count": null,
   "id": "91fd589b",
   "metadata": {},
   "outputs": [],
   "source": []
  },
  {
   "cell_type": "code",
   "execution_count": null,
   "id": "96a48e17",
   "metadata": {},
   "outputs": [],
   "source": []
  },
  {
   "cell_type": "code",
   "execution_count": null,
   "id": "2e8dd381",
   "metadata": {},
   "outputs": [],
   "source": []
  }
 ],
 "metadata": {
  "kernelspec": {
   "display_name": "mlops",
   "language": "python",
   "name": "mlops"
  },
  "language_info": {
   "codemirror_mode": {
    "name": "ipython",
    "version": 3
   },
   "file_extension": ".py",
   "mimetype": "text/x-python",
   "name": "python",
   "nbconvert_exporter": "python",
   "pygments_lexer": "ipython3",
   "version": "3.8.16"
  },
  "toc": {
   "base_numbering": 1,
   "nav_menu": {},
   "number_sections": true,
   "sideBar": true,
   "skip_h1_title": false,
   "title_cell": "Table of Contents",
   "title_sidebar": "Contents",
   "toc_cell": false,
   "toc_position": {},
   "toc_section_display": true,
   "toc_window_display": false
  },
  "varInspector": {
   "cols": {
    "lenName": 16,
    "lenType": 16,
    "lenVar": 40
   },
   "kernels_config": {
    "python": {
     "delete_cmd_postfix": "",
     "delete_cmd_prefix": "del ",
     "library": "var_list.py",
     "varRefreshCmd": "print(var_dic_list())"
    },
    "r": {
     "delete_cmd_postfix": ") ",
     "delete_cmd_prefix": "rm(",
     "library": "var_list.r",
     "varRefreshCmd": "cat(var_dic_list()) "
    }
   },
   "types_to_exclude": [
    "module",
    "function",
    "builtin_function_or_method",
    "instance",
    "_Feature"
   ],
   "window_display": false
  }
 },
 "nbformat": 4,
 "nbformat_minor": 5
}
