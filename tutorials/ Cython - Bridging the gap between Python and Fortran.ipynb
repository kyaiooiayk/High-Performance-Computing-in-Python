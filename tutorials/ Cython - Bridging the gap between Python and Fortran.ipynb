{
 "cells": [
  {
   "cell_type": "markdown",
   "id": "254599b8",
   "metadata": {},
   "source": [
    "### Sections"
   ]
  },
  {
   "cell_type": "markdown",
   "id": "b8f1e4b6",
   "metadata": {},
   "source": [
    "- [Linear regression via the least squares method](#Linear-regression-via-the-least-squares-method)  \n",
    " \n",
    "- [Least squares fit implementations](#Least-squares-fit-implementations)\n",
    "    \n",
    "    - [Implementation in (C)Python](#Implementation-in-Python)\n",
    "    \n",
    "    - [Implementation in Cython](#Implementation-in-Cython)\n",
    "    \n",
    "    - [Implementation in Fortran](#Implementation-in-Fortran)\n",
    "\n",
    "- [Generating sample data and benchmarking](#Generating-sample-data-and-benchmarking)\n",
    "\n",
    "    - [Verification that all implementations yield similar results](#Verification-that-all-implementations-yield-similar-results)\n",
    "    \n",
    "    - [Visualization](#Visualization)\n",
    "    \n",
    "    - [Benchmarking via timeit](#Benchmarking-via-timeit)\n",
    "    \n",
    "- ###[Results](#Results)\n",
    "\n",
    "- [Conclusion](#Conclusion)"
   ]
  },
  {
   "cell_type": "markdown",
   "id": "18a5db90",
   "metadata": {},
   "source": [
    "<a name=\"introduction\"></a>\n",
    "<br>\n",
    "<br>"
   ]
  },
  {
   "cell_type": "markdown",
   "id": "0463f988",
   "metadata": {},
   "source": [
    "![Performance vs. Productivity for different programming languages](https://raw.githubusercontent.com/rasbt/One-Python-benchmark-per-day/master/images/cython_vs_chart.png)  \n",
    "(Note that this chart just reflects my rather objective thoughts after experimenting with Cython, and it is not based on real numbers or benchmarks.)\n",
    "<br>\n",
    "<br>\n",
    "<br>\n",
    "<br>"
   ]
  },
  {
   "cell_type": "markdown",
   "id": "916ce708",
   "metadata": {},
   "source": [
    "## Linear regression via the least squares method"
   ]
  },
  {
   "cell_type": "markdown",
   "id": "3988b58f",
   "metadata": {},
   "source": [
    "For this benchmark, we will implement a naive least squares method for linear regression, which is the simplest approach to performing a regression analysis of a dependent and a explanatory variable. \n",
    "\n",
    "The objective is to find the best-fitting straight line through a set of points that minimizes the sum of the squared offsets from the line.  \n",
    "The offsets come in 2 different flavors: perpendicular and vertical - with respect to the line.  \n",
    "![](https://raw.githubusercontent.com/rasbt/One-Python-benchmark-per-day/master/images/least_squares_vertical.png)  \n",
    "![](https://raw.githubusercontent.com/rasbt/One-Python-benchmark-per-day/master/images/least_squares_perpendicular.png)  \n",
    "\n",
    "As Michael Burger summarizes it nicely in his article \"[Problems of Linear Least Square Regression - And Approaches to Handle Them](http://www.arsa-conf.com/archive/?vid=1&aid=2&kid=60101-220)\": \"the perpendicular offset method delivers a more precise result but is are more complicated to handle. Therefore normally the vertical offsets are used.\"  \n",
    "Here, we will also use the method of computing the vertical offsets.\n",
    "\n"
   ]
  },
  {
   "cell_type": "markdown",
   "id": "f0dd72a0",
   "metadata": {},
   "source": [
    "In more mathematical terms, our goal is to compute the best fit to *n* points $(x_i, y_i)$ with $i=1,2,...n,$ via linear equation of the form  \n",
    "$f(x) = a\\cdot x + b$.  \n",
    "We further have to assume that the y-component is  functionally dependent on the x-component.  \n",
    "In a cartesian coordinate system, $b$ is the intercept of the straight line with the y-axis, and $a$ is the slope of this line."
   ]
  },
  {
   "cell_type": "markdown",
   "id": "a9084bed",
   "metadata": {},
   "source": [
    "$a = \\frac{S_{x,y}}{\\sigma_{x}^{2}}\\quad$  (slope)\n",
    "\n",
    "\n",
    "$b = \\bar{y} - a\\bar{x}\\quad$ (y-axis intercept)"
   ]
  },
  {
   "cell_type": "markdown",
   "id": "35efb5c0",
   "metadata": {},
   "source": [
    "where \n",
    "\n",
    "\n",
    "$S_{xy} = \\sum_{i=1}^{n} (x_i - \\bar{x})(y_i - \\bar{y})\\quad$ (covariance)\n",
    "\n",
    "\n",
    "$\\sigma{_x}^{2} = \\sum_{i=1}^{n} (x_i - \\bar{x})^2\\quad$ (variance)"
   ]
  },
  {
   "cell_type": "markdown",
   "id": "c942e097",
   "metadata": {},
   "source": [
    "<a name=\"implementations\"></a>\n",
    "<br>\n",
    "<br>"
   ]
  },
  {
   "cell_type": "markdown",
   "id": "90053d21",
   "metadata": {},
   "source": [
    "## Least squares fit implementations"
   ]
  },
  {
   "cell_type": "markdown",
   "id": "74bc6c20",
   "metadata": {},
   "source": [
    "<a name=\"implementations\"></a>\n",
    "<br>\n",
    "<br>"
   ]
  },
  {
   "cell_type": "markdown",
   "id": "f7ba08f8",
   "metadata": {},
   "source": [
    "After I experimented with different libraries, the numpy functions, and other tweaks, I decided to go back and implement the least squares fit method in (C)Python without any external libraries - using just the pure standard lib. Python.\n",
    "\n",
    "For Cython and Fortran, we will be using NumPy `arrays` for more efficient memory access."
   ]
  },
  {
   "cell_type": "markdown",
   "id": "b48e98e7",
   "metadata": {},
   "source": [
    "<a id='Implementation-in-Python'</a>"
   ]
  },
  {
   "cell_type": "markdown",
   "id": "ce956e1a",
   "metadata": {},
   "source": [
    "### Implementation in (C)Python"
   ]
  },
  {
   "cell_type": "markdown",
   "id": "5979a831",
   "metadata": {},
   "source": [
    "[[back to top]](#Sections)"
   ]
  },
  {
   "cell_type": "code",
   "execution_count": 1,
   "id": "ed3ff44e",
   "metadata": {},
   "outputs": [],
   "source": [
    "def python_lstsqr(x_list, y_list):\n",
    "    \"\"\" Computes the least-squares solution to a linear matrix equation. \"\"\"\n",
    "    N = len(x_list)\n",
    "    x_avg = sum(x_list)/N\n",
    "    y_avg = sum(y_list)/N\n",
    "    var_x, cov_xy = 0, 0\n",
    "    for x,y in zip(x_list, y_list):\n",
    "        temp = x - x_avg\n",
    "        var_x += temp**2\n",
    "        cov_xy += temp * (y - y_avg)\n",
    "    slope = cov_xy / var_x\n",
    "    y_interc = y_avg - slope*x_avg\n",
    "    return (slope, y_interc)"
   ]
  },
  {
   "cell_type": "markdown",
   "id": "613235a0",
   "metadata": {},
   "source": [
    "<a name=\"implementations\"></a>\n",
    "<br>\n",
    "<br>"
   ]
  },
  {
   "cell_type": "markdown",
   "id": "36b5b84f",
   "metadata": {},
   "source": [
    "### Implementation in Cython"
   ]
  },
  {
   "cell_type": "markdown",
   "id": "f7f53176",
   "metadata": {},
   "source": [
    "[[back to top]](#Sections)"
   ]
  },
  {
   "cell_type": "markdown",
   "id": "dffaa3bc",
   "metadata": {},
   "source": [
    "Cython (see [Cython's C-extensions for Python](http://cython.org)) is basically a hybrid between C and Python and can be pictured as compiled Python code with type declarations.  \n",
    "Since we are working in an IPython notebook here, we can make use of the very convenient *IPython magic*: It will take care of the conversion to C code, the compilation, and eventually the loading of the function.  \n",
    "Also, we are adding C type declarations; those type declarations are not necessary for using Cython, however, it will improve the performance of our code significantly."
   ]
  },
  {
   "cell_type": "code",
   "execution_count": 2,
   "id": "c6bd8068",
   "metadata": {},
   "outputs": [],
   "source": [
    "%load_ext cythonmagic"
   ]
  },
  {
   "cell_type": "code",
   "execution_count": 3,
   "id": "dd451257",
   "metadata": {},
   "outputs": [],
   "source": [
    "%%cython\n",
    "import numpy as np\n",
    "cimport numpy as np\n",
    "cimport cython\n",
    "@cython.boundscheck(False) \n",
    "@cython.wraparound(False)\n",
    "@cython.cdivision(True)\n",
    "cpdef cython_lstsqr(x_ary, y_ary):\n",
    "    \"\"\" Computes the least-squares solution to a linear matrix equation. \"\"\"\n",
    "    cdef double x_avg, y_avg, var_x, cov_xy,\\\n",
    "         slope, y_interc, temp\n",
    "    cdef double[:] x = x_ary # memoryview\n",
    "    cdef double[:] y = y_ary\n",
    "    cdef unsigned long N, i\n",
    "    \n",
    "    N = x.shape[0]\n",
    "    x_avg = 0\n",
    "    y_avg = 0\n",
    "    for i in range(N):\n",
    "        x_avg += x[i]\n",
    "        y_avg += y[i]\n",
    "    x_avg = x_avg/N\n",
    "    y_avg = y_avg/N\n",
    "    var_x = 0\n",
    "    cov_xy = 0\n",
    "    for i in range(N):\n",
    "        temp = (x[i] - x_avg)\n",
    "        var_x += temp**2\n",
    "        cov_xy += temp*(y[i] - y_avg)\n",
    "    slope = cov_xy / var_x\n",
    "    y_interc = y_avg - slope*x_avg\n",
    "    return (slope, y_interc)"
   ]
  },
  {
   "cell_type": "markdown",
   "id": "cd4a99de",
   "metadata": {},
   "source": [
    "Thanks to Joshua Adelman and Andreas Mayer for pointing out some flaws in the initial version of the Cython implementation."
   ]
  },
  {
   "cell_type": "markdown",
   "id": "c8a64980",
   "metadata": {},
   "source": [
    "Upon request I added the untyped version (identical to the (C)Python implementation) for comparison below:"
   ]
  },
  {
   "cell_type": "code",
   "execution_count": 4,
   "id": "fa87cd60",
   "metadata": {},
   "outputs": [],
   "source": [
    "%%cython\n",
    "cimport cython\n",
    "cpdef cython_lstsqr_untyped(x_list, y_list):\n",
    "    \"\"\" Computes the least-squares solution to a linear matrix equation. \"\"\"\n",
    "    N = len(x_list)\n",
    "    x_avg = sum(x_list)/N\n",
    "    y_avg = sum(y_list)/N\n",
    "    var_x, cov_xy = 0, 0\n",
    "    for x,y in zip(x_list, y_list):\n",
    "        temp = x - x_avg\n",
    "        var_x += temp**2\n",
    "        cov_xy += temp * (y - y_avg)\n",
    "    slope = cov_xy / var_x\n",
    "    y_interc = y_avg - slope*x_avg\n",
    "    return (slope, y_interc)"
   ]
  },
  {
   "cell_type": "markdown",
   "id": "48f76491",
   "metadata": {},
   "source": [
    "<a name=\"implementations\"></a>\n",
    "<br>\n",
    "<br>"
   ]
  },
  {
   "cell_type": "markdown",
   "id": "702e5d08",
   "metadata": {},
   "source": [
    "### Implementation in Fortran"
   ]
  },
  {
   "cell_type": "markdown",
   "id": "5013ffa2",
   "metadata": {},
   "source": [
    "[[back to top]](#Sections)"
   ]
  },
  {
   "cell_type": "markdown",
   "id": "ff5afd50",
   "metadata": {},
   "source": [
    "There is also a convenient IPython magic command for compiling Fortran code. The Fortran magic uses NumPy's [`F2PY`](http://wiki.scipy.org/F2py) module for compiling and running the Fortran code. For more information, please see the ['Fortran magic's documentation'](http://nbviewer.ipython.org/github/mgaitan/fortran_magic/blob/master/documentation.ipynb).\n"
   ]
  },
  {
   "cell_type": "code",
   "execution_count": 1,
   "id": "5a7a4c8a",
   "metadata": {},
   "outputs": [
    {
     "name": "stdout",
     "output_type": "stream",
     "text": [
      "Installed fortranmagic.py. To use it, type:\n",
      "  %load_ext fortranmagic\n"
     ]
    }
   ],
   "source": [
    "%install_ext https://raw.github.com/mgaitan/fortran_magic/master/fortranmagic.py"
   ]
  },
  {
   "cell_type": "code",
   "execution_count": 5,
   "id": "bb3d10b6",
   "metadata": {},
   "outputs": [
    {
     "data": {
      "application/javascript": [
       "$.getScript(\"https://raw.github.com/marijnh/CodeMirror/master/mode/fortran/fortran.js\", function () {\n",
       "IPython.config.cell_magic_highlight['magic_fortran'] = {'reg':[/^%%fortran/]};});\n"
      ]
     },
     "metadata": {},
     "output_type": "display_data"
    }
   ],
   "source": [
    "%load_ext fortranmagic"
   ]
  },
  {
   "cell_type": "code",
   "execution_count": 6,
   "id": "271d930f",
   "metadata": {},
   "outputs": [
    {
     "name": "stdout",
     "output_type": "stream",
     "text": [
      "\tBuilding module \"_fortran_magic_a044885f2b0c0feac78a230b6b714e2b\"...\n",
      "\t\tConstructing wrapper function \"fortran_lstsqr\"...\n",
      "\t\t  slope,y_interc = fortran_lstsqr(ary_x,ary_y)\n",
      "\tWrote C/API module \"_fortran_magic_a044885f2b0c0feac78a230b6b714e2b\" to file \"/var/folders/5k/0pmyxbls5tg39vdv6vl3pnvh0000gn/T/tmp5i8i3zxx/src.macosx-10.5-x86_64-3.4/_fortran_magic_a044885f2b0c0feac78a230b6b714e2bmodule.c\"\n",
      "\tFortran 77 wrappers are saved to \"/var/folders/5k/0pmyxbls5tg39vdv6vl3pnvh0000gn/T/tmp5i8i3zxx/src.macosx-10.5-x86_64-3.4/_fortran_magic_a044885f2b0c0feac78a230b6b714e2b-f2pywrappers.f\"\n"
     ]
    }
   ],
   "source": [
    "%%fortran\n",
    "SUBROUTINE fortran_lstsqr(ary_x, ary_y, slope, y_interc)\n",
    "    ! Computes the least-squares solution to a linear matrix equation. \"\"\"\n",
    "    IMPLICIT NONE\n",
    "    REAL(8), INTENT(in), DIMENSION(:) :: ary_x, ary_y\n",
    "    REAL(8), INTENT(out) :: slope, y_interc\n",
    "    REAL(8) :: x_avg, y_avg, var_x, cov_xy, temp\n",
    "    INTEGER(8) :: N, i\n",
    "    \n",
    "    N = SIZE(ary_x)\n",
    "\n",
    "    x_avg = SUM(ary_x) / N\n",
    "    y_avg = SUM(ary_y) / N\n",
    "    var_x = 0\n",
    "    cov_xy = 0\n",
    "    \n",
    "    DO i = 1, N\n",
    "        temp = ary_x(i) - x_avg\n",
    "        var_x = var_x + temp**2\n",
    "        cov_xy = cov_xy + (temp*(ary_y(i) - y_avg))\n",
    "    END DO\n",
    "    \n",
    "    slope = cov_xy / var_x\n",
    "    y_interc = y_avg - slope*x_avg\n",
    "\n",
    "END SUBROUTINE fortran_lstsqr"
   ]
  },
  {
   "cell_type": "markdown",
   "id": "d8fc1aef",
   "metadata": {},
   "source": [
    "<a name='numpy_func'></a>\n",
    "<br>\n",
    "<br>"
   ]
  },
  {
   "cell_type": "markdown",
   "id": "424ba8c5",
   "metadata": {},
   "source": [
    "<a name='sample_data'></a>\n",
    "<br>\n",
    "<br>"
   ]
  },
  {
   "cell_type": "markdown",
   "id": "da16c113",
   "metadata": {},
   "source": [
    "## Generating sample data and benchmarking"
   ]
  },
  {
   "cell_type": "markdown",
   "id": "94a27ffb",
   "metadata": {},
   "source": [
    "<br>\n",
    "<br>"
   ]
  },
  {
   "cell_type": "markdown",
   "id": "1b15358b",
   "metadata": {},
   "source": [
    "### Verification that all implementations yield same results"
   ]
  },
  {
   "cell_type": "markdown",
   "id": "960919b9",
   "metadata": {},
   "source": [
    "[[back to top]](#Sections)"
   ]
  },
  {
   "cell_type": "code",
   "execution_count": 7,
   "id": "8e13f366",
   "metadata": {},
   "outputs": [
    {
     "name": "stdout",
     "output_type": "stream",
     "text": [
      "ok\n"
     ]
    }
   ],
   "source": [
    "import random\n",
    "import numpy as np\n",
    "\n",
    "random.seed(12345)\n",
    "\n",
    "x = [x_i*random.randrange(8,12)/10 for x_i in range(500)]\n",
    "y = [y_i*random.randrange(8,12)/10 for y_i in range(100,600)]\n",
    "x_ary = np.asarray(x)\n",
    "y_ary = np.asarray(y)\n",
    "\n",
    "reference = python_lstsqr(x_ary, y_ary)\n",
    "funcs = [python_lstsqr, cython_lstsqr, \n",
    "         cython_lstsqr_untyped,fortran_lstsqr]\n",
    "\n",
    "for f in funcs:\n",
    "    assert(reference == f(x_ary, y_ary))    \n",
    "print('ok')"
   ]
  },
  {
   "cell_type": "markdown",
   "id": "81419edb",
   "metadata": {},
   "source": [
    "<br>\n",
    "<br>"
   ]
  },
  {
   "cell_type": "markdown",
   "id": "311a820d",
   "metadata": {},
   "source": [
    "\n",
    "## Visualization"
   ]
  },
  {
   "cell_type": "markdown",
   "id": "457882d4",
   "metadata": {},
   "source": [
    "[[back to top]](#Sections)"
   ]
  },
  {
   "cell_type": "markdown",
   "id": "cdc49dbf",
   "metadata": {},
   "source": [
    "Just for a visual cheeck for how our dataset is distributed, and how the least squares regression line looks like, we will plot the results in a scatter plot below.\n",
    "\n",
    "Note that we are only using our \"matrix approach\" to visualize the results - for simplicity. We expect all 3 approaches to produce similar results, which we confirmed in via the `np.testing.assert_array_almost_equal` function above."
   ]
  },
  {
   "cell_type": "code",
   "execution_count": 8,
   "id": "108927dc",
   "metadata": {},
   "outputs": [],
   "source": [
    "%matplotlib inline"
   ]
  },
  {
   "cell_type": "code",
   "execution_count": 9,
   "id": "9e8bb3a4",
   "metadata": {},
   "outputs": [
    {
     "data": {
      "image/png": "[encoded data removed]",
      "text/plain": [
       "<matplotlib.figure.Figure at 0x105becf98>"
      ]
     },
     "metadata": {},
     "output_type": "display_data"
    }
   ],
   "source": [
    "from matplotlib import pyplot as plt\n",
    "import random\n",
    "\n",
    "random.seed(12345)\n",
    "\n",
    "x = [x_i*random.randrange(8,12)/10 for x_i in range(500)]\n",
    "y = [y_i*random.randrange(8,12)/10 for y_i in range(100,600)]\n",
    "\n",
    "slope, intercept = python_lstsqr(x, y)\n",
    "\n",
    "line_x = [round(min(x)) - 1, round(max(x)) + 1]\n",
    "line_y = [slope*x_i + intercept for x_i in line_x]\n",
    "\n",
    "plt.figure(figsize=(8,8))\n",
    "plt.scatter(x,y)\n",
    "plt.plot(line_x, line_y, color='red', lw='2')\n",
    "\n",
    "plt.ylabel('y')\n",
    "plt.xlabel('x')\n",
    "plt.title('Linear regression via least squares fit')\n",
    "\n",
    "ftext = 'y = ax + b = {:.3f} + {:.3f}x'\\\n",
    "        .format(slope, intercept)\n",
    "plt.figtext(.15,.8, ftext, fontsize=11, ha='left')\n",
    "\n",
    "plt.show()"
   ]
  },
  {
   "cell_type": "markdown",
   "id": "3ccacba5",
   "metadata": {},
   "source": [
    "<br>\n",
    "<br>"
   ]
  },
  {
   "cell_type": "markdown",
   "id": "28e6b91e",
   "metadata": {},
   "source": [
    "# Benchmarking via timeit"
   ]
  },
  {
   "cell_type": "markdown",
   "id": "ca95eac9",
   "metadata": {},
   "source": [
    "[[back to top]](#Sections)"
   ]
  },
  {
   "cell_type": "markdown",
   "id": "62d08779",
   "metadata": {},
   "source": [
    "Now, finally let us take a look at the effect of different sample sizes on the relative performances for each approach."
   ]
  },
  {
   "cell_type": "code",
   "execution_count": 11,
   "id": "6eb6f5b2",
   "metadata": {},
   "outputs": [],
   "source": [
    "import timeit\n",
    "import random\n",
    "random.seed(12345)\n",
    "\n",
    "orders_n = [10**n for n in range(1, 6)]\n",
    "timings = {f.__name__:[] for f in funcs}\n",
    "\n",
    "for n in orders_n:\n",
    "    x = ([x_i*np.random.randint(8,12)/10 for x_i in range(n)])\n",
    "    y = ([y_i*np.random.randint(10,14)/10 for y_i in range(n)])\n",
    "    x_ary = np.asarray(x)\n",
    "    y_ary = np.asarray(y)\n",
    "    x_fary = np.asfortranarray(x)\n",
    "    y_fary = np.asfortranarray(y)\n",
    "    timings['python_lstsqr'].append(min(timeit.Timer('python_lstsqr(x, y)', \n",
    "            'from __main__ import python_lstsqr, x, y')\\\n",
    "                                        .repeat(repeat=3, number=1000)))\n",
    "    timings['cython_lstsqr'].append(min(timeit.Timer('cython_lstsqr(x_ary, y_ary)', \n",
    "            'from __main__ import cython_lstsqr, x_ary, y_ary')\\\n",
    "                                        .repeat(repeat=3, number=1000)))\n",
    "    timings['cython_lstsqr_untyped'].append(min(timeit.Timer('cython_lstsqr_untyped(x, y)', \n",
    "            'from __main__ import cython_lstsqr_untyped, x, y')\\\n",
    "                                                .repeat(repeat=3, number=1000)))\n",
    "    timings['fortran_lstsqr'].append(min(timeit.Timer('fortran_lstsqr(x_fary, y_fary)', \n",
    "            'from __main__ import fortran_lstsqr, x_fary, y_fary')\\\n",
    "                                         .repeat(repeat=3, number=1000)))"
   ]
  },
  {
   "cell_type": "markdown",
   "id": "95fe3f3d",
   "metadata": {},
   "source": [
    "<a name='performance1'></a>\n",
    "<br>\n",
    "<br>"
   ]
  },
  {
   "cell_type": "markdown",
   "id": "a24ad9e7",
   "metadata": {},
   "source": [
    "## Preparing to plot the results"
   ]
  },
  {
   "cell_type": "markdown",
   "id": "1dd37db8",
   "metadata": {},
   "source": [
    "[[back to top]](#Sections)"
   ]
  },
  {
   "cell_type": "code",
   "execution_count": 12,
   "id": "bd27eda7",
   "metadata": {},
   "outputs": [],
   "source": [
    "import platform\n",
    "import multiprocessing\n",
    "from cython import __version__ as cython__version__\n",
    "\n",
    "def print_sysinfo():\n",
    "    \n",
    "    print('\\nPython version  :', platform.python_version())\n",
    "    print('compiler        :', platform.python_compiler())\n",
    "    print('Cython version  :', cython__version__)\n",
    "    print('NumPy version   :', np.__version__)\n",
    "    \n",
    "    print('\\nsystem     :', platform.system())\n",
    "    print('release    :', platform.release())\n",
    "    print('machine    :', platform.machine())\n",
    "    print('processor  :', platform.processor())\n",
    "    print('CPU count  :', multiprocessing.cpu_count())\n",
    "    print('interpreter:', platform.architecture()[0])\n",
    "    print('\\n\\n')"
   ]
  },
  {
   "cell_type": "code",
   "execution_count": 22,
   "id": "a3381d1c",
   "metadata": {},
   "outputs": [],
   "source": [
    "import matplotlib.pyplot as plt\n",
    "\n",
    "def plot(timings, title, labels, orders_n):\n",
    "    plt.rcParams.update({'font.size': 12})\n",
    "\n",
    "    fig = plt.figure(figsize=(11,10))\n",
    "    for lb in labels:\n",
    "        plt.plot(orders_n, timings[lb], alpha=0.5, label=labels[lb], \n",
    "                 marker='o', lw=3)\n",
    "    plt.xlabel('sample size n')\n",
    "    plt.ylabel('time per computation in milliseconds')\n",
    "    plt.xlim([min(orders_n) / 10, max(orders_n)* 10])\n",
    "    plt.legend(loc=2)\n",
    "    plt.grid()\n",
    "    plt.xscale('log')\n",
    "    plt.yscale('log')\n",
    "    plt.title(title)\n",
    "    plt.show()"
   ]
  },
  {
   "cell_type": "code",
   "execution_count": 32,
   "id": "bb74e580",
   "metadata": {},
   "outputs": [],
   "source": [
    "import prettytable\n",
    "\n",
    "labels = {'python_lstsqr':'Python (Standard Library func.)', \n",
    "          'cython_lstsqr':'Cython (NumPy arrays)',  \n",
    "          'cython_lstsqr_untyped':'Cython untyped (equiv. to Python impl.)', \n",
    "          'fortran_lstsqr': 'Fortran (NumPy arrays)',\n",
    "          }\n",
    "\n",
    "def summary_table(funcs):\n",
    "    fit_table = prettytable.PrettyTable(['n=%s' %orders_n[-1], \n",
    "                                         'Implementation' ,\n",
    "                                         'time in msec'])\n",
    "    fit_table.align['Implementation'] = 'l'\n",
    "    for l in ['python_lstsqr', 'cython_lstsqr_untyped', \n",
    "              'cython_lstsqr', 'fortran_lstsqr']:\n",
    "        fit_table.add_row(['', labels[l], '{:.3f}'.format(timings[l][-1])])\n",
    "    print(fit_table)"
   ]
  },
  {
   "cell_type": "markdown",
   "id": "2ddbc11f",
   "metadata": {},
   "source": [
    "<a name='performance1'></a>\n",
    "<br>\n",
    "<br>"
   ]
  },
  {
   "cell_type": "markdown",
   "id": "39e181fe",
   "metadata": {},
   "source": [
    "<a name='performance1'></a>\n",
    "<br>\n",
    "<br>"
   ]
  },
  {
   "cell_type": "markdown",
   "id": "5d971888",
   "metadata": {},
   "source": [
    "# Results"
   ]
  },
  {
   "cell_type": "markdown",
   "id": "a4240b66",
   "metadata": {},
   "source": [
    "[[back to top]](#Sections)"
   ]
  },
  {
   "cell_type": "code",
   "execution_count": 33,
   "id": "3540c87b",
   "metadata": {},
   "outputs": [
    {
     "name": "stdout",
     "output_type": "stream",
     "text": [
      "\n",
      "Python version  : 3.4.1\n",
      "compiler        : GCC 4.2.1 (Apple Inc. build 5577)\n",
      "Cython version  : 0.20.1\n",
      "NumPy version   : 1.8.1\n",
      "\n",
      "system     : Darwin\n",
      "release    : 13.2.0\n",
      "machine    : x86_64\n",
      "processor  : i386\n",
      "CPU count  : 2\n",
      "interpreter: 64bit\n",
      "\n",
      "\n",
      "\n"
     ]
    },
    {
     "data": {
      "image/png": "[encoded data removed]",
      "text/plain": [
       "<matplotlib.figure.Figure at 0x107b1d710>"
      ]
     },
     "metadata": {},
     "output_type": "display_data"
    },
    {
     "name": "stdout",
     "output_type": "stream",
     "text": [
      "+----------+-----------------------------------------+--------------+\n",
      "| n=100000 | Implementation                          | time in msec |\n",
      "+----------+-----------------------------------------+--------------+\n",
      "|          | Python (Standard Library func.)         |    55.369    |\n",
      "|          | Cython untyped (equiv. to Python impl.) |    35.196    |\n",
      "|          | Cython (NumPy arrays)                   |    0.527     |\n",
      "|          | Fortran (NumPy arrays)                  |    0.436     |\n",
      "+----------+-----------------------------------------+--------------+\n"
     ]
    }
   ],
   "source": [
    "title = 'Performance of Linear Regression Least Squares Fits in Python, Cython, and Fortran'\n",
    "\n",
    "print_sysinfo()\n",
    "plot(timings, title, labels, orders_n)\n",
    "summary_table(funcs)"
   ]
  },
  {
   "cell_type": "markdown",
   "id": "775c3e65",
   "metadata": {},
   "source": [
    "<a name='performance1'></a>\n",
    "<br>\n",
    "<br>"
   ]
  },
  {
   "cell_type": "markdown",
   "id": "48845d8b",
   "metadata": {},
   "source": [
    "## Conclusion"
   ]
  },
  {
   "cell_type": "markdown",
   "id": "138357a3",
   "metadata": {},
   "source": [
    "Of course it is not fair to compare the interpreted Python language to compiled C and Fortran code that have static types at compile time.  \n",
    "Here, I was mostly interested to see how the code compiled code via Cython stacks against Fortran via F2PY (of course different compiler version can also cause significant differences). And one can say that both are about equal in terms of performance (at least for this simple benchmark).  \n",
    "\n",
    "It is nice to see that Cython and Fortran code can be used quite conveniently in IPython notebooks, which make them a even more valuable tool for data analyses and algorithm development: Code can be prototyped in Python, and step by step rewritten in context of the original documentation.  \n",
    "In the case of Cython, it is especially nice that Python and C functions can be mixed and matched to get the best out of both: Productivity and code efficiency.\n"
   ]
  },
  {
   "cell_type": "markdown",
   "metadata": {},
   "source": [
    "# References\n",
    "- https://nbviewer.org/github/rasbt/One-Python-benchmark-per-day/blob/master/ipython_nbs/day10_fortran_lstsqr.ipynb"
   ]
  },
  {
   "cell_type": "markdown",
   "id": "e7d71b63",
   "metadata": {},
   "source": [
    "<a name=\"cython_bonus\"></a>\n",
    "<br>\n",
    "<br>"
   ]
  },
  {
   "cell_type": "markdown",
   "id": "df0f46c1",
   "metadata": {},
   "source": [
    "<a name=\"numba\"></a>\n",
    "<br>\n",
    "<br>"
   ]
  }
 ],
 "metadata": {
  "kernelspec": {
   "display_name": "trainingAI",
   "language": "python",
   "name": "trainingai"
  },
  "language_info": {
   "codemirror_mode": {
    "name": "ipython",
    "version": 3
   },
   "file_extension": ".py",
   "mimetype": "text/x-python",
   "name": "python",
   "nbconvert_exporter": "python",
   "pygments_lexer": "ipython3",
   "version": "3.9.7"
  },
  "toc": {
   "base_numbering": 1,
   "nav_menu": {},
   "number_sections": true,
   "sideBar": true,
   "skip_h1_title": false,
   "title_cell": "Table of Contents",
   "title_sidebar": "Contents",
   "toc_cell": false,
   "toc_position": {},
   "toc_section_display": true,
   "toc_window_display": true
  },
  "varInspector": {
   "cols": {
    "lenName": 16,
    "lenType": 16,
    "lenVar": 40
   },
   "kernels_config": {
    "python": {
     "delete_cmd_postfix": "",
     "delete_cmd_prefix": "del ",
     "library": "var_list.py",
     "varRefreshCmd": "print(var_dic_list())"
    },
    "r": {
     "delete_cmd_postfix": ") ",
     "delete_cmd_prefix": "rm(",
     "library": "var_list.r",
     "varRefreshCmd": "cat(var_dic_list()) "
    }
   },
   "types_to_exclude": [
    "module",
    "function",
    "builtin_function_or_method",
    "instance",
    "_Feature"
   ],
   "window_display": false
  }
 },
 "nbformat": 4,
 "nbformat_minor": 1
}
