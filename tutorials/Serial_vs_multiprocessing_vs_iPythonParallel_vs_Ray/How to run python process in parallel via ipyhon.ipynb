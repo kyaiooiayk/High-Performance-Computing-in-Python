{
 "cells": [
  {
   "cell_type": "markdown",
   "metadata": {},
   "source": [
    "# Introduction"
   ]
  },
  {
   "cell_type": "markdown",
   "metadata": {},
   "source": [
    "<div class=\"alert alert-block alert-warning\">\n",
    "<font color=black><br>\n",
    "\n",
    "**What?** How to run python process in parallel via ipyhon\n",
    "\n",
    "<br></font>\n",
    "</div>"
   ]
  },
  {
   "cell_type": "markdown",
   "metadata": {},
   "source": [
    "# Installing iPyhton parallel"
   ]
  },
  {
   "cell_type": "markdown",
   "metadata": {},
   "source": [
    "<div class=\"alert alert-block alert-info\">\n",
    "<font color=black><br>\n",
    "\n",
    "- **Step #1:** pip install ipyparallel\n",
    "- **Step #2:** jupyter serverextension enable --py ipyparallel\n",
    "- **Step #3:** jupyter nbextension install --py ipyparallel\n",
    "- **Step #4:** upyter nbextension enable --py ipyparallel\n",
    "\n",
    "<br></font>\n",
    "</div>"
   ]
  },
  {
   "cell_type": "markdown",
   "metadata": {},
   "source": [
    "# How to run the code"
   ]
  },
  {
   "cell_type": "markdown",
   "metadata": {},
   "source": [
    "<div class=\"alert alert-block alert-info\">\n",
    "<font color=black><br>\n",
    "\n",
    "- Open a fresh new terminal\n",
    "- Start the cluster via **ipcluster start** \n",
    "- Then wait untill you see on the command line **Engines appear to have started successfully**. This may take up to 30 seconds.\n",
    "\n",
    "<br></font>\n",
    "</div>"
   ]
  },
  {
   "cell_type": "code",
   "execution_count": 30,
   "metadata": {},
   "outputs": [
    {
     "name": "stdout",
     "output_type": "stream",
     "text": [
      "Without NumPy\n",
      "run_complex_operations took 14.61ms\n",
      "NumPy\n",
      "run_complex_operations took 16.86ms\n"
     ]
    }
   ],
   "source": [
    "import math\n",
    "import numpy as np\n",
    "from timebudget import timebudget\n",
    "import ipyparallel as ipp\n",
    "\n",
    "iterations_count = round(1e7)\n",
    "\n",
    "def complex_operation(input_index):\n",
    "    print(\"Complex operation. Input index: {:2d}\".format(input_index))\n",
    "\n",
    "    [math.exp(i) * math.sinh(i) for i in [1] * iterations_count]\n",
    "\n",
    "def complex_operation_numpy(input_index):\n",
    "    print(\"Complex operation (numpy). Input index: {:2d}\".format(input_index))\n",
    "\n",
    "    data = np.ones(iterations_count)\n",
    "    np.exp(data) * np.sinh(data)\n",
    "\n",
    "@timebudget\n",
    "def run_complex_operations(operation, input, pool):\n",
    "    pool.map(operation, input)\n",
    "\n",
    "\n",
    "\n",
    "client_ids = ipp.Client()\n",
    "pool = client_ids[:]\n",
    "\n",
    "input = range(10)\n",
    "print('Without NumPy')\n",
    "run_complex_operations(complex_operation, input, pool)\n",
    "print('NumPy')\n",
    "run_complex_operations(complex_operation_numpy, input, pool)"
   ]
  },
  {
   "cell_type": "markdown",
   "metadata": {},
   "source": [
    "<div class=\"alert alert-block alert-info\">\n",
    "<font color=black><br>\n",
    "\n",
    "-  Shut done the cluser with **ipcluster stop** and wait until you see the program finishes. This may take up to 30 seconds.\n",
    "- Clean any temp files with **ipcluster clean**\n",
    "\n",
    "<br></font>\n",
    "</div>"
   ]
  },
  {
   "cell_type": "markdown",
   "metadata": {},
   "source": [
    "# Second method - more elegant"
   ]
  },
  {
   "cell_type": "markdown",
   "metadata": {},
   "source": [
    "<div class=\"alert alert-block alert-info\">\n",
    "<font color=black><br>\n",
    "\n",
    "- Allocate a cluster (collection of IPython engines for use in parallel)\n",
    "- Run a collection of tasks on the cluster\n",
    "- Wait interactively for results\n",
    "- Cleanup resources after the task is done\n",
    " \n",
    "<br></font>\n",
    "</div>"
   ]
  },
  {
   "cell_type": "code",
   "execution_count": 3,
   "metadata": {},
   "outputs": [
    {
     "name": "stdout",
     "output_type": "stream",
     "text": [
      "Number of CPUs in the system: 8\n"
     ]
    }
   ],
   "source": [
    "import os\n",
    "print('Number of CPUs in the system: {}'.format(os.cpu_count()))"
   ]
  },
  {
   "cell_type": "markdown",
   "metadata": {},
   "source": [
    "<div class=\"alert alert-block alert-info\">\n",
    "<font color=black><br>\n",
    "\n",
    "- We can see ths machine has 8 CPUs.\n",
    "- The cluste will automatically start 8 **engines**.\n",
    "- Given a total amount of jobs in number of 100, the programm will send them in **batches of 8**.\n",
    "\n",
    "<br></font>\n",
    "</div>"
   ]
  },
  {
   "cell_type": "code",
   "execution_count": 22,
   "metadata": {},
   "outputs": [
    {
     "name": "stdout",
     "output_type": "stream",
     "text": [
      "Using existing profile dir: '/Users/gmura/.ipython/profile_default'\n",
      "Starting 8 engines with <class 'ipyparallel.cluster.launcher.LocalEngineSetLauncher'>\n"
     ]
    },
    {
     "data": {
      "application/vnd.jupyter.widget-view+json": {
       "model_id": "c47c73ed9b7642eda0b304b5a6a8ce86",
       "version_major": 2,
       "version_minor": 0
      },
      "text/plain": [
       "sleep:   0%|          | 0/16 [00:00<?, ?tasks/s]"
      ]
     },
     "metadata": {},
     "output_type": "display_data"
    },
    {
     "name": "stdout",
     "output_type": "stream",
     "text": [
      "Stopping engine(s): 1631967151\n",
      "engine set stopped 1631967151: {'engines': {'0': {'exit_code': 0, 'pid': 87661, 'identifier': '0'}, '1': {'exit_code': 0, 'pid': 87662, 'identifier': '1'}, '2': {'exit_code': 0, 'pid': 87663, 'identifier': '2'}, '3': {'exit_code': 0, 'pid': 87664, 'identifier': '3'}, '4': {'exit_code': 0, 'pid': 87667, 'identifier': '4'}, '5': {'exit_code': 0, 'pid': 87669, 'identifier': '5'}, '6': {'exit_code': 0, 'pid': 87671, 'identifier': '6'}, '7': {'exit_code': 0, 'pid': 87673, 'identifier': '7'}}, 'exit_code': 0}\n",
      "Stopping controller\n",
      "Controller stopped: {'exit_code': 0, 'pid': 87660, 'identifier': 'ipcontroller-1631967151-ws47-85881'}\n"
     ]
    }
   ],
   "source": [
    "import time, math\n",
    "import ipyparallel as ipp\n",
    "\n",
    "task = [i/(i+1) for i in range(round(1e7))]\n",
    "    \n",
    "task_durations = [1] * 16\n",
    "\n",
    "# request a cluster\n",
    "with ipp.Cluster() as rc:\n",
    "    \n",
    "    # get a view on the cluster\n",
    "    view = rc.load_balanced_view()\n",
    "    \n",
    "    # submit the tasks\n",
    "    asyncresult = view.map_async(time.sleep, task_durations)\n",
    "    \n",
    "    # wait interactively for results\n",
    "    asyncresult.wait_interactive()\n",
    "    \n",
    "    # retrieve actual results\n",
    "    result = asyncresult.get()\n"
   ]
  },
  {
   "cell_type": "code",
   "execution_count": 21,
   "metadata": {},
   "outputs": [
    {
     "name": "stdout",
     "output_type": "stream",
     "text": [
      "[None, None, None, None, None, None, None, None, None, None, None, None, None, None, None, None]\n"
     ]
    }
   ],
   "source": [
    "print(result)"
   ]
  },
  {
   "cell_type": "markdown",
   "metadata": {},
   "source": [
    "# References"
   ]
  },
  {
   "cell_type": "markdown",
   "metadata": {},
   "source": [
    "<div class=\"alert alert-block alert-warning\">\n",
    "<font color=black><br>\n",
    "\n",
    "- [Code example to be run in parallel](https://www.anyscale.com/blog/parallelizing-python-code)\n",
    "- [How to install and acitvate iPython](https://ipyparallel.readthedocs.io/en/latest/)\n",
    "\n",
    "<br></font>\n",
    "</div>"
   ]
  },
  {
   "cell_type": "code",
   "execution_count": null,
   "metadata": {},
   "outputs": [],
   "source": []
  }
 ],
 "metadata": {
  "kernelspec": {
   "display_name": "trainingAI",
   "language": "python",
   "name": "trainingai"
  },
  "language_info": {
   "codemirror_mode": {
    "name": "ipython",
    "version": 3
   },
   "file_extension": ".py",
   "mimetype": "text/x-python",
   "name": "python",
   "nbconvert_exporter": "python",
   "pygments_lexer": "ipython3",
   "version": "3.8.5"
  }
 },
 "nbformat": 4,
 "nbformat_minor": 2
}
