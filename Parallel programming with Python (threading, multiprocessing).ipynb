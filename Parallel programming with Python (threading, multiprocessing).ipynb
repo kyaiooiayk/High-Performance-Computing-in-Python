{
 "cells": [
  {
   "cell_type": "markdown",
   "metadata": {},
   "source": [
    "# Introduction"
   ]
  },
  {
   "cell_type": "markdown",
   "metadata": {},
   "source": [
    "<div class=\"alert alert-block alert-warning\">\n",
    "<font color=black><br>\n",
    "\n",
    "**What?** Parallel programming with Python (threading, multiprocessing)\n",
    "\n",
    "**Reference:** https://nbviewer.jupyter.org/github/ethen8181/machine-learning/blob/master/python/parallel.ipynb<br>\n",
    "\n",
    "<br></font>\n",
    "</div>"
   ]
  },
  {
   "cell_type": "markdown",
   "metadata": {},
   "source": [
    "# Import modules"
   ]
  },
  {
   "cell_type": "code",
   "execution_count": null,
   "metadata": {},
   "outputs": [],
   "source": [
    "import math\n",
    "import time\n",
    "import logging\n",
    "import requests\n",
    "import threading\n",
    "import multiprocessing\n",
    "import concurrent.futures\n",
    "from joblib import Parallel, delayed\n",
    "%load_ext watermark"
   ]
  },
  {
   "cell_type": "code",
   "execution_count": null,
   "metadata": {},
   "outputs": [],
   "source": [
    "%watermark -p joblib,requests"
   ]
  },
  {
   "cell_type": "markdown",
   "metadata": {},
   "source": [
    "# Introduction"
   ]
  },
  {
   "cell_type": "markdown",
   "metadata": {},
   "source": [
    "<div class=\"alert alert-block alert-info\">\n",
    "<font color=black><br>\n",
    "\n",
    "- A **process** is a program that is in execution. In other words, code that are running (e.g. Jupyter notebook, Google Chrome, Python interpreter). Multiple processes are always running in parallel in a parallel.\n",
    "- A process can spawn multiple **threads (sub-processes)** to handle subtasks. They live inside processes and share the same memory space (they can read and write to the same variables). Ideally, they run in parallel, but not necessarily.\n",
    "\n",
    "<br></font>\n",
    "</div>"
   ]
  },
  {
   "cell_type": "markdown",
   "metadata": {},
   "source": [
    "# Threading"
   ]
  },
  {
   "cell_type": "markdown",
   "metadata": {},
   "source": [
    "<div class=\"alert alert-block alert-info\">\n",
    "<font color=black><br>\n",
    "\n",
    "- When we run a program whic takes for a few seconds, we would have to wait for that portion to wake up before we can continue with the rest of the program.\n",
    "- The concurrency of threads can bypass this behavior.\n",
    "\n",
    "<br></font>\n",
    "</div>"
   ]
  },
  {
   "cell_type": "code",
   "execution_count": null,
   "metadata": {},
   "outputs": [],
   "source": [
    "def sleeper(n_time):\n",
    "    name = threading.current_thread().name\n",
    "    print('I am {}. Going to sleep for {} seconds'.format(name, n_time))\n",
    "    time.sleep(n_time)\n",
    "    print('{} has woken up from sleep'.format(name))"
   ]
  },
  {
   "cell_type": "code",
   "execution_count": null,
   "metadata": {},
   "outputs": [],
   "source": [
    "# we call .start to start executing the function from the thread\n",
    "n_time = 4\n",
    "thread = threading.Thread(target = sleeper, name = 'thread1', args = (n_time,))\n",
    "thread.start()"
   ]
  },
  {
   "cell_type": "markdown",
   "metadata": {},
   "source": [
    "<div class=\"alert alert-block alert-info\">\n",
    "<font color=black><br>\n",
    "\n",
    "- To demonstrate the **concurrency property**, i.e. we don't have to wait for the calling thread to finish before running the rest of our program.\n",
    "\n",
    "<br></font>\n",
    "</div>"
   ]
  },
  {
   "cell_type": "code",
   "execution_count": null,
   "metadata": {},
   "outputs": [],
   "source": [
    "# hello is printed \"before\" the wake up message from the function\n",
    "thread = threading.Thread(target = sleeper, name = 'thread2', args = (n_time,))\n",
    "thread.start()\n",
    "\n",
    "print()\n",
    "print('hello, still doing something even if thread2 has not finished')"
   ]
  },
  {
   "cell_type": "markdown",
   "metadata": {},
   "source": [
    "<div class=\"alert alert-block alert-info\">\n",
    "<font color=black><br>\n",
    "\n",
    "- Sometimes, we don't want Python to switch to the main thread until the thread has finished. \n",
    "- To do this, we can use **.join** method.\n",
    "- It blocks the interpreter from accessing or executing the main program until the thread finishes it task.\n",
    "\n",
    "<br></font>\n",
    "</div>"
   ]
  },
  {
   "cell_type": "code",
   "execution_count": null,
   "metadata": {},
   "outputs": [],
   "source": [
    "# hello is printed \"after\" the wake up message from the function\n",
    "thread = threading.Thread(target = sleeper, name = 'thread3', args = (n_time,))\n",
    "thread.start()\n",
    "print(\"waiting rhread3 to finish before moving on\")\n",
    "thread.join()\n",
    "\n",
    "print()\n",
    "print('hello')"
   ]
  },
  {
   "cell_type": "markdown",
   "metadata": {},
   "source": [
    "<div class=\"alert alert-block alert-info\">\n",
    "<font color=black><br>\n",
    "\n",
    "- The following code chunk showcase how to initialize and utilize multiple threads.\n",
    "- it doesn't take n_threads * n_time amount of time to finish all the task!\n",
    "\n",
    "<br></font>\n",
    "</div>"
   ]
  },
  {
   "cell_type": "code",
   "execution_count": null,
   "metadata": {},
   "outputs": [],
   "source": [
    "n_time = 5\n",
    "n_threads = 5\n",
    "start = time.time()\n",
    "\n",
    "# create n_threads number of threads and store them in a list\n",
    "threads = []\n",
    "for i in range(n_threads):\n",
    "    name = '\\nthread{}'.format(i)\n",
    "    thread = threading.Thread(target = sleeper, name = name, args = (n_time,))\n",
    "    threads.append(thread)\n",
    "    # we can start the thread while we're creating it, or move\n",
    "    # this to its own loop (as shown below)\n",
    "    thread.start()\n",
    "\n",
    "# we could instead start the thread in a separate loop\n",
    "# for thread in threads:\n",
    "#     thread.start()\n",
    "\n",
    "# ensure all threads have finished before executing main program\n",
    "for thread in threads:\n",
    "    thread.join()\n",
    "\n",
    "elapse = time.time() - start\n",
    "print()\n",
    "print('Elapse time: ', elapse)\n",
    "\n"
   ]
  },
  {
   "cell_type": "markdown",
   "metadata": {},
   "source": [
    "# concurrent.futures"
   ]
  },
  {
   "cell_type": "markdown",
   "metadata": {},
   "source": [
    "<div class=\"alert alert-block alert-info\">\n",
    "<font color=black><br>\n",
    "\n",
    "- This provides high level API for launching asynchronous tasks.\n",
    "- ATTENTION: it will not work in ipython!\n",
    "- see this discussion: https://stackoverflow.com/questions/15900366/all-example-concurrent-futures-code-is-failing-with-brokenprocesspool    \n",
    "\n",
    "<br></font>\n",
    "</div>"
   ]
  },
  {
   "cell_type": "code",
   "execution_count": null,
   "metadata": {
    "scrolled": true
   },
   "outputs": [],
   "source": [
    "# example from the documentation page\n",
    "# https://docs.python.org/3/library/concurrent.futures.html#processpoolexecutor-example\n",
    "def is_prime(n):\n",
    "    \"\"\"\n",
    "    References\n",
    "    ----------\n",
    "    https://math.stackexchange.com/questions/1343171/why-only-square-root-approach-to-check-number-is-prime\n",
    "    \"\"\"\n",
    "    if n % 2 == 0:\n",
    "        return False\n",
    "\n",
    "    sqrt_n = int(math.floor(math.sqrt(n)))\n",
    "    for i in range(3, sqrt_n + 1, 2):\n",
    "        if n % i == 0:\n",
    "            return False\n",
    "\n",
    "    return True\n",
    "\n",
    "\n",
    "PRIMES = [\n",
    "    112272535095293,\n",
    "    112582705942171,\n",
    "    112272535095293,\n",
    "    115280095190773,\n",
    "    115797848077099,\n",
    "    1099726899285419]\n",
    "\n",
    "with concurrent.futures.ProcessPoolExecutor() as executor:\n",
    "    for number, prime in zip(PRIMES, executor.map(is_prime, PRIMES)):\n",
    "        print('{} is prime: {}'.format(number, prime))"
   ]
  },
  {
   "cell_type": "markdown",
   "metadata": {},
   "source": [
    "# Comparison: multi-processing vs. multi-threading"
   ]
  },
  {
   "cell_type": "markdown",
   "metadata": {},
   "source": [
    "<div class=\"alert alert-block alert-info\">\n",
    "<font color=black><br>\n",
    "\n",
    "- **Serial approach**: We're running the tasks one after the other. Each run is executed by the same thread of the same process.\n",
    "- **multiprocessing will not work OK in ipython!**\n",
    "- To make multiprocessing work in ipython see this discussion: https://stackoverflow.com/questions/50937362/multiprocessing-on-python-3-jupyter\n",
    "- **Multi-threading approach**: takes advantage of the fact that the tasks can be executed concurrently. The execution time is also cut down to a quarter, **even though nothing** is running in parallel. \n",
    "- If we had managed to use multi-processing, we'd have seen that the threaded approach is quicker than the truly parallel one. That's due to the overhead of spawning processes. As we noted previously, spawning and switching processes is much more expensive and requires more resources.\n",
    "\n",
    "<br></font>\n",
    "</div>"
   ]
  },
  {
   "cell_type": "code",
   "execution_count": 11,
   "metadata": {},
   "outputs": [
    {
     "name": "stdout",
     "output_type": "stream",
     "text": [
      "Number of cpu :  8\n"
     ]
    }
   ],
   "source": [
    "print(\"Number of cpu : \", multiprocessing.cpu_count())"
   ]
  },
  {
   "cell_type": "code",
   "execution_count": 75,
   "metadata": {},
   "outputs": [],
   "source": [
    "def only_sleep(dummy = 0):\n",
    "    \"\"\"Wait for a timer to expire\"\"\"\n",
    "    process_name = multiprocessing.current_process().name\n",
    "    thread_name = threading.current_thread().name    \n",
    "    print('Process Name: {}, Thread Name: {}'.format(\n",
    "        process_name, thread_name))\n",
    "    \n",
    "    time.sleep(2)\n",
    "\n",
    "\n",
    "def crunch_numbers():\n",
    "    \"\"\"Do some computations \"\"\"\n",
    "    process_name = multiprocessing.current_process().name\n",
    "    thread_name = threading.current_thread().name\n",
    "    print('\\nProcess Name: {}, Thread Name: {}'.format(\n",
    "        process_name, thread_name))\n",
    "\n",
    "    x = 0\n",
    "    while x < 10000000:\n",
    "        x += 1"
   ]
  },
  {
   "cell_type": "code",
   "execution_count": 78,
   "metadata": {},
   "outputs": [],
   "source": [
    "def experiment(target, n_workers, onIpython = True):\n",
    "    \"\"\"\n",
    "    run the target function serially, using threads,\n",
    "    using process and output the run time\n",
    "    \"\"\"\n",
    "    \n",
    "    # Run tasks serially    \n",
    "    start_time = time.time()\n",
    "    for _ in range(n_workers):\n",
    "        target()\n",
    "    \n",
    "    end_time = time.time()\n",
    "    print(\"Serial time=\", end_time - start_time)\n",
    "    print()\n",
    "    \n",
    "    if onIpython == False:\n",
    "        # Run tasks using processes\n",
    "        print(\"Run tasks using processes\")\n",
    "        start_time = time.time()    \n",
    "        processes = [multiprocessing.Process(target = target) for _ in range(n_workers)]    \n",
    "\n",
    "        #If we create a process object, nothing will happen until we start it \n",
    "        for i, process in enumerate(processes):\n",
    "            #process.start()\n",
    "            process.run() \n",
    "\n",
    "        for process in processes:\n",
    "            process.join()\n",
    "\n",
    "        end_time = time.time()\n",
    "        print(\"Parallel time=\", end_time - start_time)\n",
    "        print()\n",
    "    \n",
    "    \n",
    "    # Run tasks using threads\n",
    "    print(\"\\nRun tasks using threads\")\n",
    "    start_time = time.time()\n",
    "    threads = [threading.Thread(target = target) for _ in range(n_workers)]\n",
    "    for thread in threads:\n",
    "        thread.start()\n",
    "    \n",
    "    # Wait of all the process before moving on\n",
    "    for thread in threads:\n",
    "        thread.join()\n",
    "\n",
    "    end_time = time.time()\n",
    "    print(\"Threads time=\", end_time - start_time)    \n",
    "    "
   ]
  },
  {
   "cell_type": "code",
   "execution_count": 79,
   "metadata": {},
   "outputs": [
    {
     "name": "stdout",
     "output_type": "stream",
     "text": [
      "Process Name: MainProcess, Thread Name: MainThread\n",
      "Process Name: MainProcess, Thread Name: MainThread\n",
      "Process Name: MainProcess, Thread Name: MainThread\n",
      "Process Name: MainProcess, Thread Name: MainThread\n",
      "Serial time= 8.016698837280273\n",
      "\n",
      "\n",
      "Run tasks using threads\n",
      "Process Name: MainProcess, Thread Name: Thread-48\n",
      "Process Name: MainProcess, Thread Name: Thread-49\n",
      "Process Name: MainProcess, Thread Name: Thread-50\n",
      "Process Name: MainProcess, Thread Name: Thread-51\n",
      "Threads time= 2.005197048187256\n"
     ]
    }
   ],
   "source": [
    "n_workers = 4\n",
    "experiment(target = only_sleep, n_workers = n_workers)"
   ]
  },
  {
   "cell_type": "markdown",
   "metadata": {},
   "source": [
    "<div class=\"alert alert-block alert-info\">\n",
    "<font color=black><br>\n",
    "\n",
    "- Let's perform the same routine but this time on the crunch_numbers function.\n",
    "- This task was design to be CPU intensive.\n",
    "- You can see that multi-threading performs very similarly to serial approach.\n",
    "- **Why?** Crunch_numbers performs computations and Python doesn't perform real parallelism, the threads are basically running one after the other until they all finish. In fact it might even be slower, as we need to take into account the overhead of launching multiple threads.\n",
    "\n",
    "<br></font>\n",
    "</div>"
   ]
  },
  {
   "cell_type": "code",
   "execution_count": 80,
   "metadata": {},
   "outputs": [
    {
     "name": "stdout",
     "output_type": "stream",
     "text": [
      "\n",
      "Process Name: MainProcess, Thread Name: MainThread\n",
      "\n",
      "Process Name: MainProcess, Thread Name: MainThread\n",
      "\n",
      "Process Name: MainProcess, Thread Name: MainThread\n",
      "\n",
      "Process Name: MainProcess, Thread Name: MainThread\n",
      "Serial time= 2.454118251800537\n",
      "\n",
      "\n",
      "Run tasks using threads\n",
      "\n",
      "Process Name: MainProcess, Thread Name: Thread-52\n",
      "\n",
      "Process Name: MainProcess, Thread Name: Thread-53\n",
      "\n",
      "Process Name: MainProcess, Thread Name: Thread-54\n",
      "\n",
      "Process Name: MainProcess, Thread Name: Thread-55\n",
      "Threads time= 2.47139310836792\n"
     ]
    }
   ],
   "source": [
    "n_workers = 4\n",
    "experiment(target = crunch_numbers, n_workers = n_workers)"
   ]
  },
  {
   "cell_type": "markdown",
   "metadata": {},
   "source": [
    "# Conclusion"
   ]
  },
  {
   "cell_type": "markdown",
   "metadata": {},
   "source": [
    "<div class=\"alert alert-danger\">\n",
    "<font color=black>\n",
    "\n",
    "- The bottmo line is that:\n",
    "- For CPU (**CPU bound**) itensive operations such as crunching number use multi-processing\n",
    "- For I/O (**I/O bound**) intensive operations such as checking websites downtime use multi-threading.\n",
    "\n",
    "</font>\n",
    "</div>"
   ]
  },
  {
   "cell_type": "code",
   "execution_count": null,
   "metadata": {},
   "outputs": [],
   "source": []
  }
 ],
 "metadata": {
  "kernelspec": {
   "display_name": "trainingAI",
   "language": "python",
   "name": "trainingai"
  },
  "language_info": {
   "codemirror_mode": {
    "name": "ipython",
    "version": 3
   },
   "file_extension": ".py",
   "mimetype": "text/x-python",
   "name": "python",
   "nbconvert_exporter": "python",
   "pygments_lexer": "ipython3",
   "version": "3.8.5"
  }
 },
 "nbformat": 4,
 "nbformat_minor": 2
}
