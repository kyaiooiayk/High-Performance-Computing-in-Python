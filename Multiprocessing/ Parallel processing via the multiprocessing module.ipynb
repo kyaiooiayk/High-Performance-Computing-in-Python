{
 "cells": [
  {
   "cell_type": "markdown",
   "metadata": {},
   "source": [
    "# Parallel processing via the `multiprocessing` module"
   ]
  },
  {
   "cell_type": "markdown",
   "metadata": {},
   "source": [
    "CPUs with multiple cores have become the standard in the recent development of modern computer architectures and we can not only find them in supercomputer facilities but also in our desktop machines at home, and our laptops; even Apple's iPhone 5S got a 1.3 Ghz Dual-core processor in 2013.\n",
    "\n",
    "However, the default Python interpreter was designed with simplicity in mind and has a thread-safe mechanism, the so-called \"GIL\" (Global Interpreter Lock). In order to prevent conflicts between threads, it executes only one statement at a time (so-called serial processing, or single-threading).\n",
    "\n",
    "In this introduction to Python's `multiprocessing` module, we will see how we can spawn multiple subprocesses to avoid some of the GIL's disadvantages."
   ]
  },
  {
   "cell_type": "markdown",
   "metadata": {},
   "source": [
    "###  Multi-Threading vs. Multi-Processing"
   ]
  },
  {
   "cell_type": "markdown",
   "metadata": {},
   "source": [
    "Depending on the application, two common approaches in parallel programming are either to run code via threads or multiple processes, respectively. If we submit \"jobs\" to different threads, those jobs can be pictured as \"sub-tasks\" of a single process and those threads will usually have access to the same memory areas (i.e., shared memory). This approach can easily lead to conflicts in case of improper  synchronization, for example, if processes are writing to the same memory location at the same time.  \n",
    "\n",
    "A safer approach (although it comes with an additional overhead due to the communication overhead between separate processes) is to submit multiple processes to completely separate memory locations (i.e., distributed memory): Every process will run completely independent from each other.\n",
    "\n",
    "Here, we will take a look at Python's [`multiprocessing`](https://docs.python.org/dev/library/multiprocessing.html) module and how we can use it to submit multiple processes that can run independently from each other in order to make best use of our CPU cores."
   ]
  },
  {
   "cell_type": "markdown",
   "metadata": {},
   "source": [
    "![](https://raw.githubusercontent.com/rasbt/python_reference/master/Images/multiprocessing_scheme.png)"
   ]
  },
  {
   "cell_type": "markdown",
   "metadata": {},
   "source": [
    "<br>\n",
    "<br>"
   ]
  },
  {
   "cell_type": "markdown",
   "metadata": {},
   "source": [
    "# Introduction to the `multiprocessing` module"
   ]
  },
  {
   "cell_type": "markdown",
   "metadata": {},
   "source": [
    "The [multiprocessing](https://docs.python.org/dev/library/multiprocessing.html) module in Python's Standard Library has a lot of powerful features. If you want to read about all the nitty-gritty tips, tricks, and details, I would recommend to use the [official documentation](https://docs.python.org/dev/library/multiprocessing.html) as an entry point.  \n",
    "\n",
    "In the following sections, I want to provide a brief overview of different approaches to show how the `multiprocessing` module can be used for parallel programming."
   ]
  },
  {
   "cell_type": "markdown",
   "metadata": {},
   "source": [
    "### The `Process` class"
   ]
  },
  {
   "cell_type": "markdown",
   "metadata": {},
   "source": [
    "The most basic approach is probably to use the `Process` class from the `multiprocessing` module.  \n",
    "Here, we will use a simple queue function to generate four random strings in parallel."
   ]
  },
  {
   "cell_type": "code",
   "execution_count": 2,
   "metadata": {},
   "outputs": [
    {
     "name": "stdout",
     "output_type": "stream",
     "text": [
      "['BJWNs', 'GOK0H', '7CTRJ', 'THDF3']\n"
     ]
    }
   ],
   "source": [
    "import multiprocessing as mp\n",
    "import random\n",
    "import string\n",
    "\n",
    "random.seed(123)\n",
    "\n",
    "# Define an output queue\n",
    "output = mp.Queue()\n",
    "\n",
    "# define a example function\n",
    "def rand_string(length, output):\n",
    "    \"\"\" Generates a random string of numbers, lower- and uppercase chars. \"\"\"\n",
    "    rand_str = ''.join(random.choice(\n",
    "                        string.ascii_lowercase \n",
    "                        + string.ascii_uppercase \n",
    "                        + string.digits)\n",
    "                   for i in range(length))\n",
    "    output.put(rand_str)\n",
    "\n",
    "# Setup a list of processes that we want to run\n",
    "processes = [mp.Process(target=rand_string, args=(5, output)) for x in range(4)]\n",
    "\n",
    "# Run processes\n",
    "for p in processes:\n",
    "    p.start()\n",
    "\n",
    "# Exit the completed processes\n",
    "for p in processes:\n",
    "    p.join()\n",
    "\n",
    "# Get process results from the output queue\n",
    "results = [output.get() for p in processes]\n",
    "\n",
    "print(results)"
   ]
  },
  {
   "cell_type": "markdown",
   "metadata": {},
   "source": [
    "### How to retrieve results in a particular order "
   ]
  },
  {
   "cell_type": "markdown",
   "metadata": {},
   "source": [
    "The order of the obtained results does not necessarily have to match the order of the processes (in the `processes` list). Since we eventually use the `.get()` method to retrieve the results from the `Queue` sequentially, the order in which the processes finished determines the order of our results.  \n",
    "E.g., if the second process has finished just before the first process, the order of the strings in the `results` list could have also been\n",
    "`['PQpqM', 'yzQfA', 'SHZYV', 'PSNkD']` instead of `['yzQfA', 'PQpqM', 'SHZYV', 'PSNkD']`\n",
    "\n",
    "If our application required us to retrieve results in a particular order, one possibility would be to refer to the processes' `._identity` attribute. In this case, we could also simply use the values from our `range` object as position argument. The modified code would be:"
   ]
  },
  {
   "cell_type": "code",
   "execution_count": 3,
   "metadata": {},
   "outputs": [
    {
     "name": "stdout",
     "output_type": "stream",
     "text": [
      "[(0, 'h5hoV'), (1, 'fvdmN'), (2, 'rxGX4'), (3, '8hDJj')]\n"
     ]
    }
   ],
   "source": [
    "# Define an output queue\n",
    "output = mp.Queue()\n",
    "\n",
    "# define a example function\n",
    "def rand_string(length, pos, output):\n",
    "    \"\"\" Generates a random string of numbers, lower- and uppercase chars. \"\"\"\n",
    "    rand_str = ''.join(random.choice(\n",
    "                        string.ascii_lowercase \n",
    "                        + string.ascii_uppercase \n",
    "                        + string.digits)\n",
    "                   for i in range(length))\n",
    "    output.put((pos, rand_str))\n",
    "\n",
    "# Setup a list of processes that we want to run\n",
    "processes = [mp.Process(target=rand_string, args=(5, x, output)) for x in range(4)]\n",
    "\n",
    "# Run processes\n",
    "for p in processes:\n",
    "    p.start()\n",
    "\n",
    "# Exit the completed processes\n",
    "for p in processes:\n",
    "    p.join()\n",
    "\n",
    "# Get process results from the output queue\n",
    "results = [output.get() for p in processes]\n",
    "\n",
    "print(results)"
   ]
  },
  {
   "cell_type": "markdown",
   "metadata": {},
   "source": [
    "And the retrieved results would be tuples, for example, `[(0, 'KAQo6'), (1, '5lUya'), (2, 'nj6Q0'), (3, 'QQvLr')]`   \n",
    "or `[(1, '5lUya'), (3, 'QQvLr'), (0, 'KAQo6'), (2, 'nj6Q0')]`\n",
    "\n",
    "To make sure that we retrieved the results in order, we could simply sort the results and optionally get rid of the position argument:"
   ]
  },
  {
   "cell_type": "code",
   "execution_count": 4,
   "metadata": {},
   "outputs": [
    {
     "name": "stdout",
     "output_type": "stream",
     "text": [
      "['h5hoV', 'fvdmN', 'rxGX4', '8hDJj']\n"
     ]
    }
   ],
   "source": [
    "results.sort()\n",
    "results = [r[1] for r in results]\n",
    "print(results)"
   ]
  },
  {
   "cell_type": "markdown",
   "metadata": {},
   "source": [
    "**A simpler way to maintain an ordered list of results is to use the `Pool.apply` and `Pool.map` functions which we will discuss in the next section.**"
   ]
  },
  {
   "cell_type": "markdown",
   "metadata": {},
   "source": [
    "### The `Pool` class"
   ]
  },
  {
   "cell_type": "markdown",
   "metadata": {},
   "source": [
    "Another and more convenient approach for simple parallel processing tasks is provided by the `Pool` class.  \n",
    "\n",
    "There are four methods that are particularly interesting:\n",
    "\n",
    "    - Pool.apply\n",
    "    \n",
    "    - Pool.map\n",
    "    \n",
    "    - Pool.apply_async\n",
    "    \n",
    "    - Pool.map_async\n",
    "    \n",
    "The `Pool.apply` and `Pool.map` methods are basically equivalents to Python's in-built [`apply`](https://docs.python.org/2/library/functions.html#apply) and [`map`](https://docs.python.org/2/library/functions.html#map) functions."
   ]
  },
  {
   "cell_type": "markdown",
   "metadata": {},
   "source": [
    "Before we come to the `async` variants of the `Pool` methods, let us take a look at a simple example using `Pool.apply` and `Pool.map`. Here, we will set the number of processes to 4, which means that the `Pool` class will only allow 4 processes running at the same time."
   ]
  },
  {
   "cell_type": "code",
   "execution_count": 5,
   "metadata": {},
   "outputs": [],
   "source": [
    "def cube(x):\n",
    "    return x**3"
   ]
  },
  {
   "cell_type": "code",
   "execution_count": 6,
   "metadata": {},
   "outputs": [
    {
     "name": "stdout",
     "output_type": "stream",
     "text": [
      "[1, 8, 27, 64, 125, 216]\n"
     ]
    }
   ],
   "source": [
    "pool = mp.Pool(processes=4)\n",
    "results = [pool.apply(cube, args=(x,)) for x in range(1,7)]\n",
    "print(results)"
   ]
  },
  {
   "cell_type": "code",
   "execution_count": 7,
   "metadata": {},
   "outputs": [
    {
     "name": "stdout",
     "output_type": "stream",
     "text": [
      "[1, 8, 27, 64, 125, 216]\n"
     ]
    }
   ],
   "source": [
    "pool = mp.Pool(processes=4)\n",
    "results = pool.map(cube, range(1,7))\n",
    "print(results)"
   ]
  },
  {
   "cell_type": "markdown",
   "metadata": {},
   "source": [
    "The `Pool.map` and `Pool.apply` will lock the main program until all processes are finished, which is quite useful if we want to obtain results in a particular order for certain applications.   \n",
    "In contrast, the `async` variants will submit all processes at once and retrieve the results as soon as they are finished. \n",
    "One more difference is that we need to use the `get` method after the `apply_async()` call in order to obtain the `return` values of the finished processes."
   ]
  },
  {
   "cell_type": "code",
   "execution_count": 8,
   "metadata": {},
   "outputs": [
    {
     "name": "stdout",
     "output_type": "stream",
     "text": [
      "[1, 8, 27, 64, 125, 216]\n"
     ]
    }
   ],
   "source": [
    "pool = mp.Pool(processes=4)\n",
    "results = [pool.apply_async(cube, args=(x,)) for x in range(1,7)]\n",
    "output = [p.get() for p in results]\n",
    "print(output)"
   ]
  },
  {
   "cell_type": "markdown",
   "metadata": {},
   "source": [
    "# Kernel density estimation as benchmarking function"
   ]
  },
  {
   "cell_type": "markdown",
   "metadata": {},
   "source": [
    "In the following approach, I want to do a simple comparison of a serial vs. multiprocessing approach where I will use a slightly more complex function than the `cube` example, which he have been using above.  \n",
    "\n",
    "Here, I define a function for performing a Kernel density estimation for probability density functions using the Parzen-window technique.  \n",
    "I don't want to go into much detail about the theory of this technique, since we are mostly interested to see how `multiprocessing` can be used for performance improvements, but you are welcome to read my more detailed article about the [Parzen-window method here](http://sebastianraschka.com/Articles/2014_parzen_density_est.html). "
   ]
  },
  {
   "cell_type": "code",
   "execution_count": 9,
   "metadata": {},
   "outputs": [],
   "source": [
    "import numpy as np\n",
    "\n",
    "def parzen_estimation(x_samples, point_x, h):\n",
    "    \"\"\"\n",
    "    Implementation of a hypercube kernel for Parzen-window estimation.\n",
    "\n",
    "    Keyword arguments:\n",
    "        x_sample:training sample, 'd x 1'-dimensional numpy array\n",
    "        x: point x for density estimation, 'd x 1'-dimensional numpy array\n",
    "        h: window width\n",
    "        \n",
    "    Returns the predicted pdf as float.\n",
    "\n",
    "    \"\"\"\n",
    "    k_n = 0\n",
    "    for row in x_samples:\n",
    "        x_i = (point_x - row[:,np.newaxis]) / (h)\n",
    "        for row in x_i:\n",
    "            if np.abs(row) > (1/2):\n",
    "                break\n",
    "        else: # \"completion-else\"*\n",
    "            k_n += 1\n",
    "    return (k_n / len(x_samples)) / (h**point_x.shape[1])"
   ]
  },
  {
   "cell_type": "markdown",
   "metadata": {},
   "source": [
    "<hr>\n",
    "**A quick note about the \"completion else**\n",
    "\n",
    "Sometimes I receive comments about whether I used this for-else combination intentionally or if it happened by mistake. That is a legitimate question, since this \"completion-else\" is rarely used (that's what I call it, I am not aware if there is an \"official\" name for this, if so, please let me know).  \n",
    "I have a more detailed explanation [here](http://sebastianraschka.com/Articles/2014_deep_python.html#else_clauses) in one of my blog-posts, but in a nutshell: In contrast to a conditional else (in combination with if-statements), the \"completion else\" is only executed if the preceding code block (here the `for`-loop) has finished.\n",
    "<hr>"
   ]
  },
  {
   "cell_type": "markdown",
   "metadata": {},
   "source": [
    "### The Parzen-window method in a nutshell"
   ]
  },
  {
   "cell_type": "markdown",
   "metadata": {},
   "source": [
    "So what this function does in a nutshell: It counts points in a defined region (the so-called window), and divides the number of those points inside by the number of total points to estimate the probability of a single point being in a certain region.\n",
    "\n",
    "Below is a simple example where our window is represented by a hypercube centered at the origin, and we want to get an estimate of the probability for a point being in the center of the plot based on the hypercube."
   ]
  },
  {
   "cell_type": "code",
   "execution_count": 10,
   "metadata": {},
   "outputs": [],
   "source": [
    "%matplotlib inline"
   ]
  },
  {
   "cell_type": "code",
   "execution_count": 11,
   "metadata": {},
   "outputs": [
    {
     "data": {
      "image/png": "[encoded data removed]",
      "text/plain": [
       "<matplotlib.figure.Figure at 0x10905d0f0>"
      ]
     },
     "metadata": {},
     "output_type": "display_data"
    }
   ],
   "source": [
    "from mpl_toolkits.mplot3d import Axes3D\n",
    "import matplotlib.pyplot as plt\n",
    "import numpy as np\n",
    "from itertools import product, combinations\n",
    "fig = plt.figure(figsize=(7,7))\n",
    "ax = fig.gca(projection='3d')\n",
    "ax.set_aspect(\"equal\")\n",
    "\n",
    "# Plot Points\n",
    "\n",
    "# samples within the cube\n",
    "X_inside = np.array([[0,0,0],[0.2,0.2,0.2],[0.1, -0.1, -0.3]])\n",
    "\n",
    "X_outside = np.array([[-1.2,0.3,-0.3],[0.8,-0.82,-0.9],[1, 0.6, -0.7],\n",
    "                      [0.8,0.7,0.2],[0.7,-0.8,-0.45],[-0.3, 0.6, 0.9],\n",
    "                      [0.7,-0.6,-0.8]])\n",
    "\n",
    "for row in X_inside:\n",
    "    ax.scatter(row[0], row[1], row[2], color=\"r\", s=50, marker='^')\n",
    "\n",
    "for row in X_outside:    \n",
    "    ax.scatter(row[0], row[1], row[2], color=\"k\", s=50)\n",
    "\n",
    "# Plot Cube\n",
    "h = [-0.5, 0.5]\n",
    "for s, e in combinations(np.array(list(product(h,h,h))), 2):\n",
    "    if np.sum(np.abs(s-e)) == h[1]-h[0]:\n",
    "        ax.plot3D(*zip(s,e), color=\"g\")\n",
    "        \n",
    "ax.set_xlim(-1.5, 1.5)\n",
    "ax.set_ylim(-1.5, 1.5)\n",
    "ax.set_zlim(-1.5, 1.5)\n",
    "\n",
    "plt.show()"
   ]
  },
  {
   "cell_type": "code",
   "execution_count": 12,
   "metadata": {},
   "outputs": [
    {
     "name": "stdout",
     "output_type": "stream",
     "text": [
      "p(x) = 0.3\n"
     ]
    }
   ],
   "source": [
    "point_x = np.array([[0],[0],[0]])\n",
    "X_all = np.vstack((X_inside,X_outside))\n",
    "\n",
    "print('p(x) =', parzen_estimation(X_all, point_x, h=1))"
   ]
  },
  {
   "cell_type": "markdown",
   "metadata": {},
   "source": [
    "## Sample data and `timeit` benchmarks"
   ]
  },
  {
   "cell_type": "markdown",
   "metadata": {},
   "source": [
    "In the section below, we will create a random dataset from a bivariate Gaussian distribution with a mean vector centered at the origin and a identity matrix as covariance matrix. "
   ]
  },
  {
   "cell_type": "code",
   "execution_count": 13,
   "metadata": {},
   "outputs": [],
   "source": [
    "import numpy as np\n",
    "\n",
    "np.random.seed(123)\n",
    "\n",
    "# Generate random 2D-patterns\n",
    "mu_vec = np.array([0,0])\n",
    "cov_mat = np.array([[1,0],[0,1]])\n",
    "x_2Dgauss = np.random.multivariate_normal(mu_vec, cov_mat, 10000)"
   ]
  },
  {
   "cell_type": "markdown",
   "metadata": {},
   "source": [
    "The expected probability of a point at the center of the distribution is ~ 0.15915 as we can see below.  \n",
    "And our goal is here to use the Parzen-window approach to predict this density based on the sample data set that we have created above.  \n",
    "\n",
    "\n",
    "In order to make a \"good\" prediction via the Parzen-window technique, it is - among other things - crucial to select an appropriate window with. Here, we will use multiple processes to predict the density at the center of the bivariate Gaussian distribution using different window widths."
   ]
  },
  {
   "cell_type": "code",
   "execution_count": 14,
   "metadata": {},
   "outputs": [
    {
     "name": "stdout",
     "output_type": "stream",
     "text": [
      "actual probability density: 0.159154943092\n"
     ]
    }
   ],
   "source": [
    "from scipy.stats import multivariate_normal\n",
    "var = multivariate_normal(mean=[0,0], cov=[[1,0],[0,1]])\n",
    "print('actual probability density:', var.pdf([0,0]))"
   ]
  },
  {
   "cell_type": "markdown",
   "metadata": {},
   "source": [
    "## Benchmarking functions"
   ]
  },
  {
   "cell_type": "markdown",
   "metadata": {},
   "source": [
    "Below, we will set up benchmarking functions for our serial and multiprocessing approach that we can pass to our `timeit` benchmark function.  \n",
    "We will be using the `Pool.apply_async` function to take advantage of firing up processes simultaneously: Here, we don't care about the order in which the results for the different window widths are computed, we just need to associate each result with the input window width.  \n",
    "Thus we add a little tweak to our Parzen-density-estimation function by returning a tuple of 2 values: window width and the estimated density, which will allow us to sort our list of results later."
   ]
  },
  {
   "cell_type": "code",
   "execution_count": 15,
   "metadata": {},
   "outputs": [],
   "source": [
    "def parzen_estimation(x_samples, point_x, h):\n",
    "    k_n = 0\n",
    "    for row in x_samples:\n",
    "        x_i = (point_x - row[:,np.newaxis]) / (h)\n",
    "        for row in x_i:\n",
    "            if np.abs(row) > (1/2):\n",
    "                break\n",
    "        else: # \"completion-else\"*\n",
    "            k_n += 1\n",
    "    return (h, (k_n / len(x_samples)) / (h**point_x.shape[1]))"
   ]
  },
  {
   "cell_type": "code",
   "execution_count": 16,
   "metadata": {},
   "outputs": [],
   "source": [
    "def serial(samples, x, widths):\n",
    "    return [parzen_estimation(samples, x, w) for w in widths]\n",
    "\n",
    "def multiprocess(processes, samples, x, widths):\n",
    "    pool = mp.Pool(processes=processes)\n",
    "    results = [pool.apply_async(parzen_estimation, args=(samples, x, w)) for w in widths]\n",
    "    results = [p.get() for p in results]\n",
    "    results.sort() # to sort the results by input window width\n",
    "    return results"
   ]
  },
  {
   "cell_type": "markdown",
   "metadata": {},
   "source": [
    "Just to get an idea what the results would look like (i.e., the predicted densities for different window widths):"
   ]
  },
  {
   "cell_type": "code",
   "execution_count": 17,
   "metadata": {},
   "outputs": [
    {
     "name": "stdout",
     "output_type": "stream",
     "text": [
      "h = 0.1, p(x) = 0.016\n",
      "h = 0.2, p(x) = 0.0305\n",
      "h = 0.3, p(x) = 0.045\n",
      "h = 0.4, p(x) = 0.06175\n",
      "h = 0.5, p(x) = 0.078\n",
      "h = 0.6, p(x) = 0.0911666666667\n",
      "h = 0.7, p(x) = 0.106\n",
      "h = 0.8, p(x) = 0.117375\n",
      "h = 0.9, p(x) = 0.132666666667\n",
      "h = 1.0, p(x) = 0.1445\n",
      "h = 1.1, p(x) = 0.157090909091\n",
      "h = 1.2, p(x) = 0.1685\n"
     ]
    }
   ],
   "source": [
    "widths = np.arange(0.1, 1.3, 0.1)\n",
    "point_x = np.array([[0],[0]])\n",
    "results = []\n",
    "\n",
    "results = multiprocess(4, x_2Dgauss, point_x, widths)\n",
    "\n",
    "for r in results:\n",
    "    print('h = %s, p(x) = %s' %(r[0], r[1]))"
   ]
  },
  {
   "cell_type": "markdown",
   "metadata": {},
   "source": [
    "Based on the results, we can say that the best window-width would be h=1.1, since the estimated result is close to the actual result ~0.15915.  \n",
    "Thus, for the benchmark, let us create 100 evenly spaced window width in the range of 1.0 to 1.2."
   ]
  },
  {
   "cell_type": "code",
   "execution_count": 18,
   "metadata": {},
   "outputs": [],
   "source": [
    "widths = np.linspace(1.0, 1.2, 100)"
   ]
  },
  {
   "cell_type": "code",
   "execution_count": 19,
   "metadata": {},
   "outputs": [],
   "source": [
    "import timeit\n",
    "\n",
    "mu_vec = np.array([0,0])\n",
    "cov_mat = np.array([[1,0],[0,1]])\n",
    "n = 10000\n",
    "\n",
    "x_2Dgauss = np.random.multivariate_normal(mu_vec, cov_mat, n)\n",
    "\n",
    "benchmarks = []\n",
    "\n",
    "benchmarks.append(timeit.Timer('serial(x_2Dgauss, point_x, widths)', \n",
    "            'from __main__ import serial, x_2Dgauss, point_x, widths').timeit(number=1))\n",
    "\n",
    "benchmarks.append(timeit.Timer('multiprocess(2, x_2Dgauss, point_x, widths)', \n",
    "            'from __main__ import multiprocess, x_2Dgauss, point_x, widths').timeit(number=1))\n",
    "\n",
    "benchmarks.append(timeit.Timer('multiprocess(3, x_2Dgauss, point_x, widths)', \n",
    "            'from __main__ import multiprocess, x_2Dgauss, point_x, widths').timeit(number=1))\n",
    "\n",
    "benchmarks.append(timeit.Timer('multiprocess(4, x_2Dgauss, point_x, widths)', \n",
    "            'from __main__ import multiprocess, x_2Dgauss, point_x, widths').timeit(number=1))\n",
    "\n",
    "benchmarks.append(timeit.Timer('multiprocess(6, x_2Dgauss, point_x, widths)', \n",
    "            'from __main__ import multiprocess, x_2Dgauss, point_x, widths').timeit(number=1))"
   ]
  },
  {
   "cell_type": "markdown",
   "metadata": {},
   "source": [
    "## Preparing the plotting of the results"
   ]
  },
  {
   "cell_type": "code",
   "execution_count": 20,
   "metadata": {},
   "outputs": [],
   "source": [
    "import platform\n",
    "\n",
    "def print_sysinfo():\n",
    "    \n",
    "    print('\\nPython version  :', platform.python_version())\n",
    "    print('compiler        :', platform.python_compiler())\n",
    "    \n",
    "    print('\\nsystem     :', platform.system())\n",
    "    print('release    :', platform.release())\n",
    "    print('machine    :', platform.machine())\n",
    "    print('processor  :', platform.processor())\n",
    "    print('CPU count  :', mp.cpu_count())\n",
    "    print('interpreter:', platform.architecture()[0])\n",
    "    print('\\n\\n')"
   ]
  },
  {
   "cell_type": "code",
   "execution_count": 25,
   "metadata": {},
   "outputs": [],
   "source": [
    "from matplotlib import pyplot as plt\n",
    "import numpy as np\n",
    "\n",
    "def plot_results():\n",
    "    bar_labels = ['serial', '2', '3', '4', '6']\n",
    "\n",
    "    fig = plt.figure(figsize=(10,8))\n",
    "\n",
    "    # plot bars\n",
    "    y_pos = np.arange(len(benchmarks))\n",
    "    plt.yticks(y_pos, bar_labels, fontsize=16)\n",
    "    bars = plt.barh(y_pos, benchmarks,\n",
    "             align='center', alpha=0.4, color='g')\n",
    "\n",
    "    # annotation and labels\n",
    "    \n",
    "    for ba,be in zip(bars, benchmarks):\n",
    "        plt.text(ba.get_width() + 2, ba.get_y() + ba.get_height()/2,\n",
    "                '{0:.2%}'.format(benchmarks[0]/be), \n",
    "                ha='center', va='bottom', fontsize=12)\n",
    "    \n",
    "    plt.xlabel('time in seconds for n=%s' %n, fontsize=14)\n",
    "    plt.ylabel('number of processes', fontsize=14)\n",
    "    t = plt.title('Serial vs. Multiprocessing via Parzen-window estimation', fontsize=18)\n",
    "    plt.ylim([-1,len(benchmarks)+0.5])\n",
    "    plt.xlim([0,max(benchmarks)*1.1])\n",
    "    plt.vlines(benchmarks[0], -1, len(benchmarks)+0.5, linestyles='dashed')\n",
    "    plt.grid()\n",
    "\n",
    "    plt.show()"
   ]
  },
  {
   "cell_type": "markdown",
   "metadata": {},
   "source": [
    "# Results"
   ]
  },
  {
   "cell_type": "code",
   "execution_count": 26,
   "metadata": {},
   "outputs": [
    {
     "data": {
      "image/png": "[encoded data removed]",
      "text/plain": [
       "<matplotlib.figure.Figure at 0x10f1dd160>"
      ]
     },
     "metadata": {},
     "output_type": "display_data"
    },
    {
     "name": "stdout",
     "output_type": "stream",
     "text": [
      "\n",
      "Python version  : 3.4.1\n",
      "compiler        : GCC 4.2.1 (Apple Inc. build 5577)\n",
      "\n",
      "system     : Darwin\n",
      "release    : 13.2.0\n",
      "machine    : x86_64\n",
      "processor  : i386\n",
      "CPU count  : 4\n",
      "interpreter: 64bit\n",
      "\n",
      "\n",
      "\n"
     ]
    }
   ],
   "source": [
    "plot_results()\n",
    "print_sysinfo()"
   ]
  },
  {
   "cell_type": "markdown",
   "metadata": {},
   "source": [
    "<br>\n",
    "<br>"
   ]
  },
  {
   "cell_type": "markdown",
   "metadata": {},
   "source": [
    "# Conclusion"
   ]
  },
  {
   "cell_type": "markdown",
   "metadata": {},
   "source": [
    "We can see that we could speed up the density estimations for our Parzen-window function if we submitted them in parallel. However, on my particular machine, the submission of 6 parallel 6 processes doesn't lead to a further performance improvement, which makes sense for a 4-core CPU.  \n",
    "We also notice that there was a significant performance increase when we were using 3 instead of only 2 processes in parallel. However, the performance increase was less significant when we moved up to 4 parallel processes, respectively.  \n",
    "This can be attributed to the fact that in this case, the CPU consists of only 4 cores, and system processes, such as the operating system, are also running in the background. Thus, the fourth core simply does not have enough capacity left to further increase the performance of the fourth process to a large extend. And we also have to keep in mind that every additional process comes with an additional overhead for inter-process communication.  \n",
    "\n",
    "Also, an improvement due to parallel processing only makes sense if our tasks are \"CPU-bound\" where the majority of the task is spent in the CPU in contrast to I/O bound tasks, i.e., tasks that are processing data from a disk. "
   ]
  },
  {
   "cell_type": "markdown",
   "metadata": {},
   "source": [
    "# References"
   ]
  },
  {
   "cell_type": "markdown",
   "metadata": {},
   "source": [
    "- https://nbviewer.org/github/rasbt/python_reference/blob/master/tutorials/multiprocessing_intro.ipynb"
   ]
  },
  {
   "cell_type": "code",
   "execution_count": null,
   "metadata": {},
   "outputs": [],
   "source": []
  }
 ],
 "metadata": {
  "kernelspec": {
   "display_name": "trainingAI",
   "language": "python",
   "name": "trainingai"
  },
  "language_info": {
   "codemirror_mode": {
    "name": "ipython",
    "version": 3
   },
   "file_extension": ".py",
   "mimetype": "text/x-python",
   "name": "python",
   "nbconvert_exporter": "python",
   "pygments_lexer": "ipython3",
   "version": "3.9.7"
  },
  "toc": {
   "base_numbering": 1,
   "nav_menu": {},
   "number_sections": true,
   "sideBar": true,
   "skip_h1_title": false,
   "title_cell": "Table of Contents",
   "title_sidebar": "Contents",
   "toc_cell": false,
   "toc_position": {},
   "toc_section_display": true,
   "toc_window_display": true
  },
  "varInspector": {
   "cols": {
    "lenName": 16,
    "lenType": 16,
    "lenVar": 40
   },
   "kernels_config": {
    "python": {
     "delete_cmd_postfix": "",
     "delete_cmd_prefix": "del ",
     "library": "var_list.py",
     "varRefreshCmd": "print(var_dic_list())"
    },
    "r": {
     "delete_cmd_postfix": ") ",
     "delete_cmd_prefix": "rm(",
     "library": "var_list.r",
     "varRefreshCmd": "cat(var_dic_list()) "
    }
   },
   "types_to_exclude": [
    "module",
    "function",
    "builtin_function_or_method",
    "instance",
    "_Feature"
   ],
   "window_display": false
  }
 },
 "nbformat": 4,
 "nbformat_minor": 1
}
